{
 "cells": [
  {
   "cell_type": "code",
   "execution_count": 1,
   "metadata": {},
   "outputs": [
    {
     "name": "stderr",
     "output_type": "stream",
     "text": [
      "WARNING: Skipping sklearn as it is not installed.\n"
     ]
    }
   ],
   "source": [
    "# !pip uninstall sklearn\n"
   ]
  },
  {
   "cell_type": "code",
   "execution_count": 2,
   "metadata": {},
   "outputs": [
    {
     "name": "stdout",
     "output_type": "stream",
     "text": [
      "Requirement already satisfied: scikit-learn==1.0 in c:\\users\\nick\\anaconda3\\lib\\site-packages (1.0)\n",
      "Requirement already satisfied: threadpoolctl>=2.0.0 in c:\\users\\nick\\anaconda3\\lib\\site-packages (from scikit-learn==1.0) (2.2.0)\n",
      "Requirement already satisfied: numpy>=1.14.6 in c:\\users\\nick\\anaconda3\\lib\\site-packages (from scikit-learn==1.0) (1.21.5)\n",
      "Requirement already satisfied: scipy>=1.1.0 in c:\\users\\nick\\anaconda3\\lib\\site-packages (from scikit-learn==1.0) (1.7.3)\n",
      "Requirement already satisfied: joblib>=0.11 in c:\\users\\nick\\anaconda3\\lib\\site-packages (from scikit-learn==1.0) (1.1.0)\n"
     ]
    }
   ],
   "source": [
    "# !pip install scikit-learn==1.0"
   ]
  },
  {
   "cell_type": "code",
   "execution_count": 3,
   "metadata": {},
   "outputs": [
    {
     "name": "stdout",
     "output_type": "stream",
     "text": [
      "^C\n"
     ]
    }
   ],
   "source": [
    "# !pip uninstall imbalanced-learn"
   ]
  },
  {
   "cell_type": "code",
   "execution_count": 10,
   "metadata": {},
   "outputs": [
    {
     "name": "stdout",
     "output_type": "stream",
     "text": [
      "Requirement already satisfied: imbalanced-learn==0.9.0 in c:\\users\\nick\\anaconda3\\lib\\site-packages (0.9.0)\n",
      "Requirement already satisfied: joblib>=0.11 in c:\\users\\nick\\anaconda3\\lib\\site-packages (from imbalanced-learn==0.9.0) (1.1.0)\n",
      "Requirement already satisfied: scikit-learn>=1.0.1 in c:\\users\\nick\\anaconda3\\lib\\site-packages (from imbalanced-learn==0.9.0) (1.1.2)\n",
      "Requirement already satisfied: threadpoolctl>=2.0.0 in c:\\users\\nick\\anaconda3\\lib\\site-packages (from imbalanced-learn==0.9.0) (2.2.0)\n",
      "Requirement already satisfied: numpy>=1.14.6 in c:\\users\\nick\\anaconda3\\lib\\site-packages (from imbalanced-learn==0.9.0) (1.21.5)\n",
      "Requirement already satisfied: scipy>=1.1.0 in c:\\users\\nick\\anaconda3\\lib\\site-packages (from imbalanced-learn==0.9.0) (1.7.3)\n"
     ]
    }
   ],
   "source": [
    "# !pip install imbalanced-learn==0.9.0"
   ]
  },
  {
   "cell_type": "code",
   "execution_count": 10,
   "metadata": {},
   "outputs": [],
   "source": [
    "import warnings\n",
    "warnings.filterwarnings('ignore')"
   ]
  },
  {
   "cell_type": "code",
   "execution_count": 11,
   "metadata": {},
   "outputs": [],
   "source": [
    "import os\n",
    "import numpy as np\n",
    "import pandas as pd\n",
    "from collections import Counter"
   ]
  },
  {
   "cell_type": "code",
   "execution_count": 12,
   "metadata": {},
   "outputs": [],
   "source": [
    "from sklearn import metrics, tree\n",
    "from sklearn.preprocessing import StandardScaler\n",
    "from sklearn.model_selection import train_test_split\n",
    "from imblearn.ensemble import EasyEnsembleClassifier,  BalancedRandomForestClassifier\n",
    "from imblearn.metrics import classification_report_imbalanced"
   ]
  },
  {
   "cell_type": "markdown",
   "metadata": {},
   "source": [
    "# Read the CSV and Perform Basic Data Cleaning"
   ]
  },
  {
   "cell_type": "code",
   "execution_count": 13,
   "metadata": {},
   "outputs": [],
   "source": [
    "# https://help.lendingclub.com/hc/en-us/articles/215488038-What-do-the-different-Note-statuses-mean-\n",
    "\n",
    "columns = [\n",
    "    \"loan_amnt\", \"int_rate\", \"installment\", \"home_ownership\",\n",
    "    \"annual_inc\", \"verification_status\", \"issue_d\", \"loan_status\",\n",
    "    \"pymnt_plan\", \"dti\", \"delinq_2yrs\", \"inq_last_6mths\",\n",
    "    \"open_acc\", \"pub_rec\", \"revol_bal\", \"total_acc\",\n",
    "    \"initial_list_status\", \"out_prncp\", \"out_prncp_inv\", \"total_pymnt\",\n",
    "    \"total_pymnt_inv\", \"total_rec_prncp\", \"total_rec_int\", \"total_rec_late_fee\",\n",
    "    \"recoveries\", \"collection_recovery_fee\", \"last_pymnt_amnt\", \"next_pymnt_d\",\n",
    "    \"collections_12_mths_ex_med\", \"policy_code\", \"application_type\", \"acc_now_delinq\",\n",
    "    \"tot_coll_amt\", \"tot_cur_bal\", \"open_acc_6m\", \"open_act_il\",\n",
    "    \"open_il_12m\", \"open_il_24m\", \"mths_since_rcnt_il\", \"total_bal_il\",\n",
    "    \"il_util\", \"open_rv_12m\", \"open_rv_24m\", \"max_bal_bc\",\n",
    "    \"all_util\", \"total_rev_hi_lim\", \"inq_fi\", \"total_cu_tl\",\n",
    "    \"inq_last_12m\", \"acc_open_past_24mths\", \"avg_cur_bal\", \"bc_open_to_buy\",\n",
    "    \"bc_util\", \"chargeoff_within_12_mths\", \"delinq_amnt\", \"mo_sin_old_il_acct\",\n",
    "    \"mo_sin_old_rev_tl_op\", \"mo_sin_rcnt_rev_tl_op\", \"mo_sin_rcnt_tl\", \"mort_acc\",\n",
    "    \"mths_since_recent_bc\", \"mths_since_recent_inq\", \"num_accts_ever_120_pd\", \"num_actv_bc_tl\",\n",
    "    \"num_actv_rev_tl\", \"num_bc_sats\", \"num_bc_tl\", \"num_il_tl\",\n",
    "    \"num_op_rev_tl\", \"num_rev_accts\", \"num_rev_tl_bal_gt_0\",\n",
    "    \"num_sats\", \"num_tl_120dpd_2m\", \"num_tl_30dpd\", \"num_tl_90g_dpd_24m\",\n",
    "    \"num_tl_op_past_12m\", \"pct_tl_nvr_dlq\", \"percent_bc_gt_75\", \"pub_rec_bankruptcies\",\n",
    "    \"tax_liens\", \"tot_hi_cred_lim\", \"total_bal_ex_mort\", \"total_bc_limit\",\n",
    "    \"total_il_high_credit_limit\", \"hardship_flag\", \"debt_settlement_flag\"\n",
    "]\n",
    "\n",
    "target = [\"loan_status\"]"
   ]
  },
  {
   "cell_type": "code",
   "execution_count": 16,
   "metadata": {},
   "outputs": [
    {
     "data": {
      "text/html": [
       "<div>\n",
       "<style scoped>\n",
       "    .dataframe tbody tr th:only-of-type {\n",
       "        vertical-align: middle;\n",
       "    }\n",
       "\n",
       "    .dataframe tbody tr th {\n",
       "        vertical-align: top;\n",
       "    }\n",
       "\n",
       "    .dataframe thead th {\n",
       "        text-align: right;\n",
       "    }\n",
       "</style>\n",
       "<table border=\"1\" class=\"dataframe\">\n",
       "  <thead>\n",
       "    <tr style=\"text-align: right;\">\n",
       "      <th></th>\n",
       "      <th>loan_amnt</th>\n",
       "      <th>int_rate</th>\n",
       "      <th>installment</th>\n",
       "      <th>home_ownership</th>\n",
       "      <th>annual_inc</th>\n",
       "      <th>verification_status</th>\n",
       "      <th>issue_d</th>\n",
       "      <th>loan_status</th>\n",
       "      <th>pymnt_plan</th>\n",
       "      <th>dti</th>\n",
       "      <th>...</th>\n",
       "      <th>pct_tl_nvr_dlq</th>\n",
       "      <th>percent_bc_gt_75</th>\n",
       "      <th>pub_rec_bankruptcies</th>\n",
       "      <th>tax_liens</th>\n",
       "      <th>tot_hi_cred_lim</th>\n",
       "      <th>total_bal_ex_mort</th>\n",
       "      <th>total_bc_limit</th>\n",
       "      <th>total_il_high_credit_limit</th>\n",
       "      <th>hardship_flag</th>\n",
       "      <th>debt_settlement_flag</th>\n",
       "    </tr>\n",
       "  </thead>\n",
       "  <tbody>\n",
       "    <tr>\n",
       "      <th>0</th>\n",
       "      <td>10500.0</td>\n",
       "      <td>0.1719</td>\n",
       "      <td>375.35</td>\n",
       "      <td>RENT</td>\n",
       "      <td>66000.0</td>\n",
       "      <td>Source Verified</td>\n",
       "      <td>Mar-2019</td>\n",
       "      <td>low_risk</td>\n",
       "      <td>n</td>\n",
       "      <td>27.24</td>\n",
       "      <td>...</td>\n",
       "      <td>85.7</td>\n",
       "      <td>100.0</td>\n",
       "      <td>0.0</td>\n",
       "      <td>0.0</td>\n",
       "      <td>65687.0</td>\n",
       "      <td>38199.0</td>\n",
       "      <td>2000.0</td>\n",
       "      <td>61987.0</td>\n",
       "      <td>N</td>\n",
       "      <td>N</td>\n",
       "    </tr>\n",
       "    <tr>\n",
       "      <th>1</th>\n",
       "      <td>25000.0</td>\n",
       "      <td>0.2000</td>\n",
       "      <td>929.09</td>\n",
       "      <td>MORTGAGE</td>\n",
       "      <td>105000.0</td>\n",
       "      <td>Verified</td>\n",
       "      <td>Mar-2019</td>\n",
       "      <td>low_risk</td>\n",
       "      <td>n</td>\n",
       "      <td>20.23</td>\n",
       "      <td>...</td>\n",
       "      <td>91.2</td>\n",
       "      <td>50.0</td>\n",
       "      <td>1.0</td>\n",
       "      <td>0.0</td>\n",
       "      <td>271427.0</td>\n",
       "      <td>60641.0</td>\n",
       "      <td>41200.0</td>\n",
       "      <td>49197.0</td>\n",
       "      <td>N</td>\n",
       "      <td>N</td>\n",
       "    </tr>\n",
       "    <tr>\n",
       "      <th>2</th>\n",
       "      <td>20000.0</td>\n",
       "      <td>0.2000</td>\n",
       "      <td>529.88</td>\n",
       "      <td>MORTGAGE</td>\n",
       "      <td>56000.0</td>\n",
       "      <td>Verified</td>\n",
       "      <td>Mar-2019</td>\n",
       "      <td>low_risk</td>\n",
       "      <td>n</td>\n",
       "      <td>24.26</td>\n",
       "      <td>...</td>\n",
       "      <td>66.7</td>\n",
       "      <td>50.0</td>\n",
       "      <td>0.0</td>\n",
       "      <td>0.0</td>\n",
       "      <td>60644.0</td>\n",
       "      <td>45684.0</td>\n",
       "      <td>7500.0</td>\n",
       "      <td>43144.0</td>\n",
       "      <td>N</td>\n",
       "      <td>N</td>\n",
       "    </tr>\n",
       "    <tr>\n",
       "      <th>3</th>\n",
       "      <td>10000.0</td>\n",
       "      <td>0.1640</td>\n",
       "      <td>353.55</td>\n",
       "      <td>RENT</td>\n",
       "      <td>92000.0</td>\n",
       "      <td>Verified</td>\n",
       "      <td>Mar-2019</td>\n",
       "      <td>low_risk</td>\n",
       "      <td>n</td>\n",
       "      <td>31.44</td>\n",
       "      <td>...</td>\n",
       "      <td>100.0</td>\n",
       "      <td>50.0</td>\n",
       "      <td>1.0</td>\n",
       "      <td>0.0</td>\n",
       "      <td>99506.0</td>\n",
       "      <td>68784.0</td>\n",
       "      <td>19700.0</td>\n",
       "      <td>76506.0</td>\n",
       "      <td>N</td>\n",
       "      <td>N</td>\n",
       "    </tr>\n",
       "    <tr>\n",
       "      <th>4</th>\n",
       "      <td>22000.0</td>\n",
       "      <td>0.1474</td>\n",
       "      <td>520.39</td>\n",
       "      <td>MORTGAGE</td>\n",
       "      <td>52000.0</td>\n",
       "      <td>Not Verified</td>\n",
       "      <td>Mar-2019</td>\n",
       "      <td>low_risk</td>\n",
       "      <td>n</td>\n",
       "      <td>18.76</td>\n",
       "      <td>...</td>\n",
       "      <td>100.0</td>\n",
       "      <td>0.0</td>\n",
       "      <td>0.0</td>\n",
       "      <td>0.0</td>\n",
       "      <td>219750.0</td>\n",
       "      <td>25919.0</td>\n",
       "      <td>27600.0</td>\n",
       "      <td>20000.0</td>\n",
       "      <td>N</td>\n",
       "      <td>N</td>\n",
       "    </tr>\n",
       "  </tbody>\n",
       "</table>\n",
       "<p>5 rows × 86 columns</p>\n",
       "</div>"
      ],
      "text/plain": [
       "   loan_amnt  int_rate  installment home_ownership  annual_inc  \\\n",
       "0    10500.0    0.1719       375.35           RENT     66000.0   \n",
       "1    25000.0    0.2000       929.09       MORTGAGE    105000.0   \n",
       "2    20000.0    0.2000       529.88       MORTGAGE     56000.0   \n",
       "3    10000.0    0.1640       353.55           RENT     92000.0   \n",
       "4    22000.0    0.1474       520.39       MORTGAGE     52000.0   \n",
       "\n",
       "  verification_status   issue_d loan_status pymnt_plan    dti  ...  \\\n",
       "0     Source Verified  Mar-2019    low_risk          n  27.24  ...   \n",
       "1            Verified  Mar-2019    low_risk          n  20.23  ...   \n",
       "2            Verified  Mar-2019    low_risk          n  24.26  ...   \n",
       "3            Verified  Mar-2019    low_risk          n  31.44  ...   \n",
       "4        Not Verified  Mar-2019    low_risk          n  18.76  ...   \n",
       "\n",
       "   pct_tl_nvr_dlq  percent_bc_gt_75  pub_rec_bankruptcies  tax_liens  \\\n",
       "0            85.7             100.0                   0.0        0.0   \n",
       "1            91.2              50.0                   1.0        0.0   \n",
       "2            66.7              50.0                   0.0        0.0   \n",
       "3           100.0              50.0                   1.0        0.0   \n",
       "4           100.0               0.0                   0.0        0.0   \n",
       "\n",
       "   tot_hi_cred_lim  total_bal_ex_mort total_bc_limit  \\\n",
       "0          65687.0            38199.0         2000.0   \n",
       "1         271427.0            60641.0        41200.0   \n",
       "2          60644.0            45684.0         7500.0   \n",
       "3          99506.0            68784.0        19700.0   \n",
       "4         219750.0            25919.0        27600.0   \n",
       "\n",
       "   total_il_high_credit_limit  hardship_flag  debt_settlement_flag  \n",
       "0                     61987.0              N                     N  \n",
       "1                     49197.0              N                     N  \n",
       "2                     43144.0              N                     N  \n",
       "3                     76506.0              N                     N  \n",
       "4                     20000.0              N                     N  \n",
       "\n",
       "[5 rows x 86 columns]"
      ]
     },
     "execution_count": 16,
     "metadata": {},
     "output_type": "execute_result"
    }
   ],
   "source": [
    "# Load the data\n",
    "file_path = os.path.join(\"data\",'LoanStats_2019Q1.csv')\n",
    "df = pd.read_csv(file_path, skiprows=1)[:-2]\n",
    "df = df.loc[:, columns].copy()\n",
    "\n",
    "# Drop the null columns where all values are null\n",
    "df = df.dropna(axis='columns', how='all')\n",
    "\n",
    "# Drop the null rows\n",
    "df = df.dropna()\n",
    "\n",
    "# Remove the `Issued` loan status\n",
    "issued_mask = df['loan_status'] != 'Issued'\n",
    "df = df.loc[issued_mask]\n",
    "\n",
    "# convert interest rate to numerical\n",
    "df['int_rate'] = df['int_rate'].str.replace('%', '')\n",
    "df['int_rate'] = df['int_rate'].astype('float') / 100\n",
    "\n",
    "\n",
    "# Convert the target column values to low_risk and high_risk based on their values\n",
    "x = {'Current': 'low_risk'}   \n",
    "df = df.replace(x)\n",
    "\n",
    "x = dict.fromkeys(['Late (31-120 days)', 'Late (16-30 days)', 'Default', 'In Grace Period'], 'high_risk')    \n",
    "df = df.replace(x)\n",
    "\n",
    "df.reset_index(inplace=True, drop=True)\n",
    "\n",
    "df.head()"
   ]
  },
  {
   "cell_type": "code",
   "execution_count": 17,
   "metadata": {},
   "outputs": [
    {
     "name": "stdout",
     "output_type": "stream",
     "text": [
      "<class 'pandas.core.frame.DataFrame'>\n",
      "RangeIndex: 68817 entries, 0 to 68816\n",
      "Data columns (total 82 columns):\n",
      " #   Column                      Non-Null Count  Dtype  \n",
      "---  ------                      --------------  -----  \n",
      " 0   loan_amnt                   68817 non-null  float64\n",
      " 1   int_rate                    68817 non-null  float64\n",
      " 2   installment                 68817 non-null  float64\n",
      " 3   annual_inc                  68817 non-null  float64\n",
      " 4   issue_d                     68817 non-null  int64  \n",
      " 5   loan_status                 68817 non-null  bool   \n",
      " 6   pymnt_plan                  68817 non-null  bool   \n",
      " 7   dti                         68817 non-null  float64\n",
      " 8   delinq_2yrs                 68817 non-null  float64\n",
      " 9   inq_last_6mths              68817 non-null  float64\n",
      " 10  open_acc                    68817 non-null  float64\n",
      " 11  pub_rec                     68817 non-null  float64\n",
      " 12  revol_bal                   68817 non-null  float64\n",
      " 13  total_acc                   68817 non-null  float64\n",
      " 14  out_prncp                   68817 non-null  float64\n",
      " 15  out_prncp_inv               68817 non-null  float64\n",
      " 16  total_pymnt                 68817 non-null  float64\n",
      " 17  total_pymnt_inv             68817 non-null  float64\n",
      " 18  total_rec_prncp             68817 non-null  float64\n",
      " 19  total_rec_int               68817 non-null  float64\n",
      " 20  total_rec_late_fee          68817 non-null  float64\n",
      " 21  recoveries                  68817 non-null  float64\n",
      " 22  collection_recovery_fee     68817 non-null  float64\n",
      " 23  last_pymnt_amnt             68817 non-null  float64\n",
      " 24  next_pymnt_d                68817 non-null  int64  \n",
      " 25  collections_12_mths_ex_med  68817 non-null  float64\n",
      " 26  policy_code                 68817 non-null  float64\n",
      " 27  acc_now_delinq              68817 non-null  float64\n",
      " 28  tot_coll_amt                68817 non-null  float64\n",
      " 29  tot_cur_bal                 68817 non-null  float64\n",
      " 30  open_acc_6m                 68817 non-null  float64\n",
      " 31  open_act_il                 68817 non-null  float64\n",
      " 32  open_il_12m                 68817 non-null  float64\n",
      " 33  open_il_24m                 68817 non-null  float64\n",
      " 34  mths_since_rcnt_il          68817 non-null  float64\n",
      " 35  total_bal_il                68817 non-null  float64\n",
      " 36  il_util                     68817 non-null  float64\n",
      " 37  open_rv_12m                 68817 non-null  float64\n",
      " 38  open_rv_24m                 68817 non-null  float64\n",
      " 39  max_bal_bc                  68817 non-null  float64\n",
      " 40  all_util                    68817 non-null  float64\n",
      " 41  total_rev_hi_lim            68817 non-null  float64\n",
      " 42  inq_fi                      68817 non-null  float64\n",
      " 43  total_cu_tl                 68817 non-null  float64\n",
      " 44  inq_last_12m                68817 non-null  float64\n",
      " 45  acc_open_past_24mths        68817 non-null  float64\n",
      " 46  avg_cur_bal                 68817 non-null  float64\n",
      " 47  bc_open_to_buy              68817 non-null  float64\n",
      " 48  bc_util                     68817 non-null  float64\n",
      " 49  chargeoff_within_12_mths    68817 non-null  float64\n",
      " 50  delinq_amnt                 68817 non-null  float64\n",
      " 51  mo_sin_old_il_acct          68817 non-null  float64\n",
      " 52  mo_sin_old_rev_tl_op        68817 non-null  float64\n",
      " 53  mo_sin_rcnt_rev_tl_op       68817 non-null  float64\n",
      " 54  mo_sin_rcnt_tl              68817 non-null  float64\n",
      " 55  mort_acc                    68817 non-null  float64\n",
      " 56  mths_since_recent_bc        68817 non-null  float64\n",
      " 57  mths_since_recent_inq       68817 non-null  float64\n",
      " 58  num_accts_ever_120_pd       68817 non-null  float64\n",
      " 59  num_actv_bc_tl              68817 non-null  float64\n",
      " 60  num_actv_rev_tl             68817 non-null  float64\n",
      " 61  num_bc_sats                 68817 non-null  float64\n",
      " 62  num_bc_tl                   68817 non-null  float64\n",
      " 63  num_il_tl                   68817 non-null  float64\n",
      " 64  num_op_rev_tl               68817 non-null  float64\n",
      " 65  num_rev_accts               68817 non-null  float64\n",
      " 66  num_rev_tl_bal_gt_0         68817 non-null  float64\n",
      " 67  num_sats                    68817 non-null  float64\n",
      " 68  num_tl_120dpd_2m            68817 non-null  float64\n",
      " 69  num_tl_30dpd                68817 non-null  float64\n",
      " 70  num_tl_90g_dpd_24m          68817 non-null  float64\n",
      " 71  num_tl_op_past_12m          68817 non-null  float64\n",
      " 72  pct_tl_nvr_dlq              68817 non-null  float64\n",
      " 73  percent_bc_gt_75            68817 non-null  float64\n",
      " 74  pub_rec_bankruptcies        68817 non-null  float64\n",
      " 75  tax_liens                   68817 non-null  float64\n",
      " 76  tot_hi_cred_lim             68817 non-null  float64\n",
      " 77  total_bal_ex_mort           68817 non-null  float64\n",
      " 78  total_bc_limit              68817 non-null  float64\n",
      " 79  total_il_high_credit_limit  68817 non-null  float64\n",
      " 80  hardship_flag               68817 non-null  bool   \n",
      " 81  debt_settlement_flag        68817 non-null  bool   \n",
      "dtypes: bool(4), float64(76), int64(2)\n",
      "memory usage: 41.2 MB\n"
     ]
    }
   ],
   "source": [
    "df[\"issue_d\"] = pd.to_datetime(df[\"issue_d\"])\n",
    "df[\"issue_d\"] = pd.to_numeric(df[\"issue_d\"])\n",
    "df[\"next_pymnt_d\"] = pd.to_datetime(df[\"next_pymnt_d\"])\n",
    "df[\"next_pymnt_d\"] = pd.to_numeric(df[\"next_pymnt_d\"])\n",
    "df[\"hardship_flag\"] = df[\"hardship_flag\"] != 'N'  # N = False\n",
    "df[\"debt_settlement_flag\"] = df[\"debt_settlement_flag\"] != \"N\" # N = False\n",
    "df[\"pymnt_plan\"] = df[\"pymnt_plan\"] != 'n'  # n = False\n",
    "df[\"loan_status\"] = df[\"loan_status\"] != \"low_risk\" # low_risk = FALSE ; high_risk = TRUE\n",
    "pd.get_dummies(df, columns=[\"home_ownership\",\"verification_status\", \"application_type\", \"initial_list_status\"])\n",
    "cleaned_df = df.drop(columns=[\"home_ownership\",\"verification_status\", \"application_type\", \"initial_list_status\"])\n",
    "cleaned_df.info()"
   ]
  },
  {
   "cell_type": "markdown",
   "metadata": {},
   "source": [
    "# Split the Data into Training and Testing"
   ]
  },
  {
   "cell_type": "code",
   "execution_count": 18,
   "metadata": {},
   "outputs": [],
   "source": [
    "# Create our features\n",
    "X = StandardScaler().fit_transform(cleaned_df.drop(columns=\"loan_status\"))\n",
    "X = pd.DataFrame(X, columns=[x for x in cleaned_df.columns if x != 'loan_status'])\n",
    "# Create our target\n",
    "y = cleaned_df[\"loan_status\"]"
   ]
  },
  {
   "cell_type": "code",
   "execution_count": 19,
   "metadata": {},
   "outputs": [
    {
     "data": {
      "text/html": [
       "<div>\n",
       "<style scoped>\n",
       "    .dataframe tbody tr th:only-of-type {\n",
       "        vertical-align: middle;\n",
       "    }\n",
       "\n",
       "    .dataframe tbody tr th {\n",
       "        vertical-align: top;\n",
       "    }\n",
       "\n",
       "    .dataframe thead th {\n",
       "        text-align: right;\n",
       "    }\n",
       "</style>\n",
       "<table border=\"1\" class=\"dataframe\">\n",
       "  <thead>\n",
       "    <tr style=\"text-align: right;\">\n",
       "      <th></th>\n",
       "      <th>loan_amnt</th>\n",
       "      <th>int_rate</th>\n",
       "      <th>installment</th>\n",
       "      <th>annual_inc</th>\n",
       "      <th>issue_d</th>\n",
       "      <th>pymnt_plan</th>\n",
       "      <th>dti</th>\n",
       "      <th>delinq_2yrs</th>\n",
       "      <th>inq_last_6mths</th>\n",
       "      <th>open_acc</th>\n",
       "      <th>...</th>\n",
       "      <th>pct_tl_nvr_dlq</th>\n",
       "      <th>percent_bc_gt_75</th>\n",
       "      <th>pub_rec_bankruptcies</th>\n",
       "      <th>tax_liens</th>\n",
       "      <th>tot_hi_cred_lim</th>\n",
       "      <th>total_bal_ex_mort</th>\n",
       "      <th>total_bc_limit</th>\n",
       "      <th>total_il_high_credit_limit</th>\n",
       "      <th>hardship_flag</th>\n",
       "      <th>debt_settlement_flag</th>\n",
       "    </tr>\n",
       "  </thead>\n",
       "  <tbody>\n",
       "    <tr>\n",
       "      <th>0</th>\n",
       "      <td>-0.601093</td>\n",
       "      <td>0.917984</td>\n",
       "      <td>-0.365558</td>\n",
       "      <td>-0.192195</td>\n",
       "      <td>1.670601</td>\n",
       "      <td>0.0</td>\n",
       "      <td>0.270401</td>\n",
       "      <td>-0.303143</td>\n",
       "      <td>-0.656492</td>\n",
       "      <td>-0.761659</td>\n",
       "      <td>...</td>\n",
       "      <td>-1.123855</td>\n",
       "      <td>2.062779</td>\n",
       "      <td>-0.374103</td>\n",
       "      <td>0.0</td>\n",
       "      <td>-0.748655</td>\n",
       "      <td>-0.403213</td>\n",
       "      <td>-1.035041</td>\n",
       "      <td>0.122936</td>\n",
       "      <td>0.0</td>\n",
       "      <td>0.0</td>\n",
       "    </tr>\n",
       "    <tr>\n",
       "      <th>1</th>\n",
       "      <td>0.809787</td>\n",
       "      <td>1.501829</td>\n",
       "      <td>1.556747</td>\n",
       "      <td>0.145236</td>\n",
       "      <td>1.670601</td>\n",
       "      <td>0.0</td>\n",
       "      <td>-0.076645</td>\n",
       "      <td>-0.303143</td>\n",
       "      <td>-0.656492</td>\n",
       "      <td>0.732656</td>\n",
       "      <td>...</td>\n",
       "      <td>-0.463303</td>\n",
       "      <td>0.576065</td>\n",
       "      <td>2.595637</td>\n",
       "      <td>0.0</td>\n",
       "      <td>0.318420</td>\n",
       "      <td>-0.012153</td>\n",
       "      <td>0.427908</td>\n",
       "      <td>-0.128054</td>\n",
       "      <td>0.0</td>\n",
       "      <td>0.0</td>\n",
       "    </tr>\n",
       "    <tr>\n",
       "      <th>2</th>\n",
       "      <td>0.323277</td>\n",
       "      <td>1.501829</td>\n",
       "      <td>0.170892</td>\n",
       "      <td>-0.278716</td>\n",
       "      <td>1.670601</td>\n",
       "      <td>0.0</td>\n",
       "      <td>0.122869</td>\n",
       "      <td>-0.303143</td>\n",
       "      <td>-0.656492</td>\n",
       "      <td>-0.761659</td>\n",
       "      <td>...</td>\n",
       "      <td>-3.405763</td>\n",
       "      <td>0.576065</td>\n",
       "      <td>-0.374103</td>\n",
       "      <td>0.0</td>\n",
       "      <td>-0.774811</td>\n",
       "      <td>-0.272784</td>\n",
       "      <td>-0.829780</td>\n",
       "      <td>-0.246838</td>\n",
       "      <td>0.0</td>\n",
       "      <td>0.0</td>\n",
       "    </tr>\n",
       "    <tr>\n",
       "      <th>3</th>\n",
       "      <td>-0.649744</td>\n",
       "      <td>0.753843</td>\n",
       "      <td>-0.441237</td>\n",
       "      <td>0.032759</td>\n",
       "      <td>1.670601</td>\n",
       "      <td>0.0</td>\n",
       "      <td>0.478331</td>\n",
       "      <td>-0.303143</td>\n",
       "      <td>0.662568</td>\n",
       "      <td>-0.429589</td>\n",
       "      <td>...</td>\n",
       "      <td>0.593581</td>\n",
       "      <td>0.576065</td>\n",
       "      <td>2.595637</td>\n",
       "      <td>0.0</td>\n",
       "      <td>-0.573252</td>\n",
       "      <td>0.129742</td>\n",
       "      <td>-0.374475</td>\n",
       "      <td>0.407857</td>\n",
       "      <td>0.0</td>\n",
       "      <td>0.0</td>\n",
       "    </tr>\n",
       "    <tr>\n",
       "      <th>4</th>\n",
       "      <td>0.517881</td>\n",
       "      <td>0.408938</td>\n",
       "      <td>0.137947</td>\n",
       "      <td>-0.313324</td>\n",
       "      <td>1.670601</td>\n",
       "      <td>0.0</td>\n",
       "      <td>-0.149420</td>\n",
       "      <td>-0.303143</td>\n",
       "      <td>0.662568</td>\n",
       "      <td>0.234551</td>\n",
       "      <td>...</td>\n",
       "      <td>0.593581</td>\n",
       "      <td>-0.910648</td>\n",
       "      <td>-0.374103</td>\n",
       "      <td>0.0</td>\n",
       "      <td>0.050396</td>\n",
       "      <td>-0.617197</td>\n",
       "      <td>-0.079646</td>\n",
       "      <td>-0.701016</td>\n",
       "      <td>0.0</td>\n",
       "      <td>0.0</td>\n",
       "    </tr>\n",
       "  </tbody>\n",
       "</table>\n",
       "<p>5 rows × 81 columns</p>\n",
       "</div>"
      ],
      "text/plain": [
       "   loan_amnt  int_rate  installment  annual_inc   issue_d  pymnt_plan  \\\n",
       "0  -0.601093  0.917984    -0.365558   -0.192195  1.670601         0.0   \n",
       "1   0.809787  1.501829     1.556747    0.145236  1.670601         0.0   \n",
       "2   0.323277  1.501829     0.170892   -0.278716  1.670601         0.0   \n",
       "3  -0.649744  0.753843    -0.441237    0.032759  1.670601         0.0   \n",
       "4   0.517881  0.408938     0.137947   -0.313324  1.670601         0.0   \n",
       "\n",
       "        dti  delinq_2yrs  inq_last_6mths  open_acc  ...  pct_tl_nvr_dlq  \\\n",
       "0  0.270401    -0.303143       -0.656492 -0.761659  ...       -1.123855   \n",
       "1 -0.076645    -0.303143       -0.656492  0.732656  ...       -0.463303   \n",
       "2  0.122869    -0.303143       -0.656492 -0.761659  ...       -3.405763   \n",
       "3  0.478331    -0.303143        0.662568 -0.429589  ...        0.593581   \n",
       "4 -0.149420    -0.303143        0.662568  0.234551  ...        0.593581   \n",
       "\n",
       "   percent_bc_gt_75  pub_rec_bankruptcies  tax_liens  tot_hi_cred_lim  \\\n",
       "0          2.062779             -0.374103        0.0        -0.748655   \n",
       "1          0.576065              2.595637        0.0         0.318420   \n",
       "2          0.576065             -0.374103        0.0        -0.774811   \n",
       "3          0.576065              2.595637        0.0        -0.573252   \n",
       "4         -0.910648             -0.374103        0.0         0.050396   \n",
       "\n",
       "   total_bal_ex_mort  total_bc_limit  total_il_high_credit_limit  \\\n",
       "0          -0.403213       -1.035041                    0.122936   \n",
       "1          -0.012153        0.427908                   -0.128054   \n",
       "2          -0.272784       -0.829780                   -0.246838   \n",
       "3           0.129742       -0.374475                    0.407857   \n",
       "4          -0.617197       -0.079646                   -0.701016   \n",
       "\n",
       "   hardship_flag  debt_settlement_flag  \n",
       "0            0.0                   0.0  \n",
       "1            0.0                   0.0  \n",
       "2            0.0                   0.0  \n",
       "3            0.0                   0.0  \n",
       "4            0.0                   0.0  \n",
       "\n",
       "[5 rows x 81 columns]"
      ]
     },
     "execution_count": 19,
     "metadata": {},
     "output_type": "execute_result"
    }
   ],
   "source": [
    "X.head()"
   ]
  },
  {
   "cell_type": "code",
   "execution_count": 20,
   "metadata": {},
   "outputs": [
    {
     "data": {
      "text/plain": [
       "False    68470\n",
       "True       347\n",
       "Name: loan_status, dtype: int64"
      ]
     },
     "execution_count": 20,
     "metadata": {},
     "output_type": "execute_result"
    }
   ],
   "source": [
    "# Check the balance of our target values\n",
    "y.value_counts()"
   ]
  },
  {
   "cell_type": "code",
   "execution_count": 21,
   "metadata": {},
   "outputs": [],
   "source": [
    "X_train, X_test, y_train, y_test = train_test_split(X,y, random_state=9, stratify=y) \n",
    "model = tree.DecisionTreeClassifier()"
   ]
  },
  {
   "cell_type": "markdown",
   "metadata": {},
   "source": [
    "# Ensemble Learners\n",
    "\n",
    "In this section, you will compare two ensemble algorithms to determine which algorithm results in the best performance. You will train a Balanced Random Forest Classifier and an Easy Ensemble AdaBoost classifier . For each algorithm, be sure to complete the folliowing steps:\n",
    "\n",
    "1. Train the model using the training data. \n",
    "2. Calculate the balanced accuracy score from sklearn.metrics.\n",
    "3. Print the confusion matrix from sklearn.metrics.\n",
    "4. Generate a classication report using the `imbalanced_classification_report` from imbalanced-learn.\n",
    "5. For the Balanced Random Forest Classifier onely, print the feature importance sorted in descending order (most important feature to least important) along with the feature score\n",
    "\n",
    "Note: Use a random state of 1 for each algorithm to ensure consistency between tests"
   ]
  },
  {
   "cell_type": "markdown",
   "metadata": {},
   "source": [
    "### Balanced Random Forest Classifier"
   ]
  },
  {
   "cell_type": "code",
   "execution_count": 22,
   "metadata": {},
   "outputs": [
    {
     "data": {
      "text/plain": [
       "BalancedRandomForestClassifier(random_state=9)"
      ]
     },
     "execution_count": 22,
     "metadata": {},
     "output_type": "execute_result"
    }
   ],
   "source": [
    "# Resample the training data with the BalancedRandomForestClassifier\n",
    "br_forest_model = BalancedRandomForestClassifier(n_estimators=100, random_state=9)\n",
    "br_forest_model.fit(X_train, y_train)"
   ]
  },
  {
   "cell_type": "code",
   "execution_count": 23,
   "metadata": {},
   "outputs": [
    {
     "name": "stdout",
     "output_type": "stream",
     "text": [
      "Accuracy Score:  0.9149665794827085\n"
     ]
    }
   ],
   "source": [
    "# Calculated the balanced accuracy score\n",
    "br_forest_predict = br_forest_model.predict(X_test)\n",
    "print(\"Accuracy Score: \", metrics.accuracy_score(y_test, br_forest_predict))"
   ]
  },
  {
   "cell_type": "code",
   "execution_count": 24,
   "metadata": {},
   "outputs": [
    {
     "name": "stdout",
     "output_type": "stream",
     "text": [
      "[[15687  1431]\n",
      " [   32    55]]\n"
     ]
    }
   ],
   "source": [
    "# Display the confusion matrix\n",
    "print(metrics.confusion_matrix(y_test, br_forest_predict))"
   ]
  },
  {
   "cell_type": "code",
   "execution_count": 25,
   "metadata": {},
   "outputs": [
    {
     "name": "stdout",
     "output_type": "stream",
     "text": [
      "False = Low Risk \n",
      "True = High Risk\n",
      "                   pre       rec       spe        f1       geo       iba       sup\n",
      "\n",
      "      False       1.00      0.92      0.63      0.96      0.76      0.60     17118\n",
      "       True       0.04      0.63      0.92      0.07      0.76      0.56        87\n",
      "\n",
      "avg / total       0.99      0.91      0.63      0.95      0.76      0.60     17205\n",
      "\n"
     ]
    }
   ],
   "source": [
    "# Print the imbalanced classification report\n",
    "print(\"False = Low Risk\",\"\\nTrue = High Risk\")\n",
    "print(classification_report_imbalanced(y_test, br_forest_predict))"
   ]
  },
  {
   "cell_type": "code",
   "execution_count": 32,
   "metadata": {},
   "outputs": [
    {
     "data": {
      "text/plain": [
       "[(0.08546124476285667, 'total_rec_prncp'),\n",
       " (0.07396120035144381, 'last_pymnt_amnt'),\n",
       " (0.06408288276540192, 'total_pymnt'),\n",
       " (0.05541465731823739, 'total_pymnt_inv'),\n",
       " (0.04881361258366903, 'total_rec_int'),\n",
       " (0.04004473008903708, 'issue_d'),\n",
       " (0.029415722567875235, 'int_rate'),\n",
       " (0.019875101698368678, 'mo_sin_old_rev_tl_op'),\n",
       " (0.018717659709504106, 'max_bal_bc'),\n",
       " (0.01861979450088832, 'annual_inc'),\n",
       " (0.017226536284443955, 'out_prncp'),\n",
       " (0.016825222594442725, 'dti'),\n",
       " (0.016120825265238847, 'mo_sin_old_il_acct'),\n",
       " (0.01582879708495626, 'revol_bal'),\n",
       " (0.015309368439746798, 'bc_util'),\n",
       " (0.015191853005126607, 'avg_cur_bal'),\n",
       " (0.01346432337258119, 'num_il_tl'),\n",
       " (0.013442873737888474, 'tot_hi_cred_lim'),\n",
       " (0.013406631030662988, 'tot_cur_bal'),\n",
       " (0.013349195121274613, 'out_prncp_inv'),\n",
       " (0.013177498475595415, 'total_bc_limit'),\n",
       " (0.012957404767214114, 'mths_since_rcnt_il'),\n",
       " (0.012920166981083534, 'total_rev_hi_lim'),\n",
       " (0.012697722637505371, 'installment'),\n",
       " (0.012540402140521939, 'all_util'),\n",
       " (0.012522091264570916, 'loan_amnt'),\n",
       " (0.012237817708444326, 'total_il_high_credit_limit'),\n",
       " (0.01171274447372282, 'total_bal_ex_mort'),\n",
       " (0.011699841233500576, 'num_sats'),\n",
       " (0.011690223653482695, 'total_acc'),\n",
       " (0.011562183185184245, 'bc_open_to_buy'),\n",
       " (0.011193724874398207, 'num_rev_accts'),\n",
       " (0.011146666647420428, 'mths_since_recent_bc'),\n",
       " (0.011043471269720306, 'il_util'),\n",
       " (0.010893680729227244, 'mths_since_recent_inq'),\n",
       " (0.010660945538031435, 'total_bal_il'),\n",
       " (0.010415896969248295, 'mo_sin_rcnt_rev_tl_op'),\n",
       " (0.010127660403611986, 'total_rec_late_fee'),\n",
       " (0.00949453752256641, 'open_acc'),\n",
       " (0.009048323122361077, 'pct_tl_nvr_dlq'),\n",
       " (0.008940133212785934, 'num_bc_tl'),\n",
       " (0.0085253594522938, 'num_rev_tl_bal_gt_0'),\n",
       " (0.00844944327558958, 'acc_open_past_24mths'),\n",
       " (0.00817610827951753, 'num_op_rev_tl'),\n",
       " (0.00787929898440367, 'mo_sin_rcnt_tl'),\n",
       " (0.00783499158234566, 'num_actv_rev_tl'),\n",
       " (0.00730806011140439, 'tot_coll_amt'),\n",
       " (0.00699412877668078, 'open_rv_24m'),\n",
       " (0.006876608756569316, 'total_cu_tl'),\n",
       " (0.0067393619346096225, 'num_tl_op_past_12m'),\n",
       " (0.006720661712783242, 'inq_last_12m'),\n",
       " (0.006670980995624853, 'open_il_24m'),\n",
       " (0.006636632509135716, 'open_act_il'),\n",
       " (0.006367771908551465, 'num_actv_bc_tl'),\n",
       " (0.006281404176912058, 'inq_last_6mths'),\n",
       " (0.0060905825428350345, 'percent_bc_gt_75'),\n",
       " (0.006059913695127316, 'num_bc_sats'),\n",
       " (0.005991508738940666, 'inq_fi'),\n",
       " (0.005509368329078685, 'open_rv_12m'),\n",
       " (0.005337293794411851, 'mort_acc'),\n",
       " (0.0049957238711390165, 'num_accts_ever_120_pd'),\n",
       " (0.004772601223065938, 'open_acc_6m'),\n",
       " (0.004712220023598803, 'next_pymnt_d'),\n",
       " (0.004678862129790132, 'delinq_2yrs'),\n",
       " (0.0038583331499008194, 'open_il_12m'),\n",
       " (0.0012036241048544935, 'pub_rec_bankruptcies'),\n",
       " (0.0008714827202377881, 'pub_rec'),\n",
       " (0.000624323789229646, 'collections_12_mths_ex_med'),\n",
       " (0.0005154536564617375, 'num_tl_90g_dpd_24m'),\n",
       " (6.252668106442707e-05, 'chargeoff_within_12_mths'),\n",
       " (0.0, 'tax_liens'),\n",
       " (0.0, 'recoveries'),\n",
       " (0.0, 'pymnt_plan'),\n",
       " (0.0, 'policy_code'),\n",
       " (0.0, 'num_tl_30dpd'),\n",
       " (0.0, 'num_tl_120dpd_2m'),\n",
       " (0.0, 'hardship_flag'),\n",
       " (0.0, 'delinq_amnt'),\n",
       " (0.0, 'debt_settlement_flag'),\n",
       " (0.0, 'collection_recovery_fee'),\n",
       " (0.0, 'acc_now_delinq')]"
      ]
     },
     "execution_count": 32,
     "metadata": {},
     "output_type": "execute_result"
    }
   ],
   "source": [
    "# List the features sorted in descending order by feature importance\n",
    "\n",
    "sorted(zip(br_forest_model.feature_importances_, X.columns), reverse=True)"
   ]
  },
  {
   "cell_type": "markdown",
   "metadata": {},
   "source": [
    "### Easy Ensemble AdaBoost Classifier"
   ]
  },
  {
   "cell_type": "code",
   "execution_count": 27,
   "metadata": {},
   "outputs": [
    {
     "data": {
      "text/plain": [
       "EasyEnsembleClassifier(n_estimators=100, random_state=9)"
      ]
     },
     "execution_count": 27,
     "metadata": {},
     "output_type": "execute_result"
    }
   ],
   "source": [
    "# Train the EasyEnsembleClassifier\n",
    "ee_model = EasyEnsembleClassifier(n_estimators=100, random_state=9)\n",
    "ee_model.fit(X_train, y_train)"
   ]
  },
  {
   "cell_type": "code",
   "execution_count": 28,
   "metadata": {},
   "outputs": [
    {
     "name": "stdout",
     "output_type": "stream",
     "text": [
      "Accuracy Score:   0.947399011915141\n"
     ]
    }
   ],
   "source": [
    "# Calculated the balanced accuracy score\n",
    "ee_predict = ee_model.predict(X_test)\n",
    "print(\"Accuracy Score:  \", metrics.accuracy_score(y_test, ee_predict))"
   ]
  },
  {
   "cell_type": "code",
   "execution_count": 29,
   "metadata": {},
   "outputs": [
    {
     "name": "stdout",
     "output_type": "stream",
     "text": [
      "[[16223   895]\n",
      " [   10    77]]\n"
     ]
    }
   ],
   "source": [
    "# Display the confusion matrix\n",
    "print(metrics.confusion_matrix(y_test, ee_predict))"
   ]
  },
  {
   "cell_type": "code",
   "execution_count": 30,
   "metadata": {},
   "outputs": [
    {
     "name": "stdout",
     "output_type": "stream",
     "text": [
      "False = Low Risk \n",
      "True = High Risk\n",
      "                   pre       rec       spe        f1       geo       iba       sup\n",
      "\n",
      "      False       1.00      0.95      0.89      0.97      0.92      0.84     17118\n",
      "       True       0.08      0.89      0.95      0.15      0.92      0.83        87\n",
      "\n",
      "avg / total       0.99      0.95      0.89      0.97      0.92      0.84     17205\n",
      "\n"
     ]
    }
   ],
   "source": [
    "# Print the imbalanced classification report\n",
    "print(\"False = Low Risk\",\"\\nTrue = High Risk\")\n",
    "print(classification_report_imbalanced(y_test, ee_predict))"
   ]
  },
  {
   "cell_type": "markdown",
   "metadata": {},
   "source": [
    "# Results"
   ]
  },
  {
   "cell_type": "code",
   "execution_count": 38,
   "metadata": {},
   "outputs": [
    {
     "name": "stdout",
     "output_type": "stream",
     "text": [
      "Easy Ensemble Model: \n",
      "     0.9003259584069748      Rand Socre\n",
      "     0.12971483186368665    Adjusted Rand Score\n",
      "                   pre       rec       spe        f1       geo       iba       sup\n",
      "\n",
      "      False       1.00      0.95      0.89      0.97      0.92      0.84     17118\n",
      "       True       0.08      0.89      0.95      0.15      0.92      0.83        87\n",
      "\n",
      "avg / total       0.99      0.95      0.89      0.97      0.92      0.84     17205\n",
      "\n"
     ]
    }
   ],
   "source": [
    "print(\"Easy Ensemble Model: \\n    \",  metrics.rand_score(y_test, ee_predict), \"     Rand Socre\\n    \",metrics.adjusted_rand_score(y_test, ee_predict), \"   Adjusted Rand Score\")\n",
    "print(classification_report_imbalanced(y_test, ee_predict))"
   ]
  },
  {
   "cell_type": "code",
   "execution_count": 39,
   "metadata": {},
   "outputs": [
    {
     "name": "stdout",
     "output_type": "stream",
     "text": [
      "Balanced Random Forest Model: \n",
      "     0.8443854794485931      Rand Socre\n",
      "     0.05525779140824877    Adjusted Rand Score\n",
      "                   pre       rec       spe        f1       geo       iba       sup\n",
      "\n",
      "      False       1.00      0.92      0.63      0.96      0.76      0.60     17118\n",
      "       True       0.04      0.63      0.92      0.07      0.76      0.56        87\n",
      "\n",
      "avg / total       0.99      0.91      0.63      0.95      0.76      0.60     17205\n",
      "\n"
     ]
    }
   ],
   "source": [
    "print(\"Balanced Random Forest Model: \\n    \",  metrics.rand_score(y_test, br_forest_predict), \"     Rand Socre\\n    \",metrics.adjusted_rand_score(y_test, br_forest_predict), \"   Adjusted Rand Score\")\n",
    "print(classification_report_imbalanced(y_test, br_forest_predict))"
   ]
  },
  {
   "cell_type": "markdown",
   "metadata": {},
   "source": [
    "The Easy Ensemple model has the best Adjusted Rand Score of all 6 ML Regressions. It is the best option that was tested, but I still highly recommend using a different model."
   ]
  },
  {
   "cell_type": "code",
   "execution_count": null,
   "metadata": {},
   "outputs": [],
   "source": []
  }
 ],
 "metadata": {
  "kernelspec": {
   "display_name": "Python 3 (ipykernel)",
   "language": "python",
   "name": "python3"
  },
  "language_info": {
   "codemirror_mode": {
    "name": "ipython",
    "version": 3
   },
   "file_extension": ".py",
   "mimetype": "text/x-python",
   "name": "python",
   "nbconvert_exporter": "python",
   "pygments_lexer": "ipython3",
   "version": "3.9.12"
  }
 },
 "nbformat": 4,
 "nbformat_minor": 2
}
