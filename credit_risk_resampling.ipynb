{
 "cells": [
  {
   "cell_type": "markdown",
   "metadata": {},
   "source": [
    "# Credit Risk Resampling Techniques"
   ]
  },
  {
   "cell_type": "code",
   "execution_count": 1,
   "metadata": {},
   "outputs": [],
   "source": [
    "import warnings\n",
    "warnings.filterwarnings('ignore')"
   ]
  },
  {
   "cell_type": "code",
   "execution_count": 2,
   "metadata": {},
   "outputs": [],
   "source": [
    "import os\n",
    "from collections import Counter\n",
    "import numpy as np\n",
    "import pandas as pd\n",
    "\n",
    "# sklearn dependencies\n",
    "from sklearn import metrics\n",
    "from sklearn.preprocessing import StandardScaler\n",
    "from sklearn.model_selection import train_test_split\n",
    "from sklearn.linear_model import LogisticRegression\n",
    "\n",
    "# imblearn dependencies\n",
    "from imblearn.metrics import classification_report_imbalanced\n",
    "from imblearn.over_sampling import RandomOverSampler, SMOTE\n",
    "from imblearn.under_sampling import ClusterCentroids\n",
    "from imblearn.combine import SMOTEENN"
   ]
  },
  {
   "cell_type": "markdown",
   "metadata": {},
   "source": [
    "# Read the CSV and Perform Basic Data Cleaning"
   ]
  },
  {
   "cell_type": "code",
   "execution_count": 3,
   "metadata": {},
   "outputs": [],
   "source": [
    "columns = [\n",
    "    \"loan_amnt\", \"int_rate\", \"installment\", \"home_ownership\",\n",
    "    \"annual_inc\", \"verification_status\", \"issue_d\", \"loan_status\",\n",
    "    \"pymnt_plan\", \"dti\", \"delinq_2yrs\", \"inq_last_6mths\",\n",
    "    \"open_acc\", \"pub_rec\", \"revol_bal\", \"total_acc\",\n",
    "    \"initial_list_status\", \"out_prncp\", \"out_prncp_inv\", \"total_pymnt\",\n",
    "    \"total_pymnt_inv\", \"total_rec_prncp\", \"total_rec_int\", \"total_rec_late_fee\",\n",
    "    \"recoveries\", \"collection_recovery_fee\", \"last_pymnt_amnt\", \"next_pymnt_d\",\n",
    "    \"collections_12_mths_ex_med\", \"policy_code\", \"application_type\", \"acc_now_delinq\",\n",
    "    \"tot_coll_amt\", \"tot_cur_bal\", \"open_acc_6m\", \"open_act_il\",\n",
    "    \"open_il_12m\", \"open_il_24m\", \"mths_since_rcnt_il\", \"total_bal_il\",\n",
    "    \"il_util\", \"open_rv_12m\", \"open_rv_24m\", \"max_bal_bc\",\n",
    "    \"all_util\", \"total_rev_hi_lim\", \"inq_fi\", \"total_cu_tl\",\n",
    "    \"inq_last_12m\", \"acc_open_past_24mths\", \"avg_cur_bal\", \"bc_open_to_buy\",\n",
    "    \"bc_util\", \"chargeoff_within_12_mths\", \"delinq_amnt\", \"mo_sin_old_il_acct\",\n",
    "    \"mo_sin_old_rev_tl_op\", \"mo_sin_rcnt_rev_tl_op\", \"mo_sin_rcnt_tl\", \"mort_acc\",\n",
    "    \"mths_since_recent_bc\", \"mths_since_recent_inq\", \"num_accts_ever_120_pd\", \"num_actv_bc_tl\",\n",
    "    \"num_actv_rev_tl\", \"num_bc_sats\", \"num_bc_tl\", \"num_il_tl\",\n",
    "    \"num_op_rev_tl\", \"num_rev_accts\", \"num_rev_tl_bal_gt_0\",\n",
    "    \"num_sats\", \"num_tl_120dpd_2m\", \"num_tl_30dpd\", \"num_tl_90g_dpd_24m\",\n",
    "    \"num_tl_op_past_12m\", \"pct_tl_nvr_dlq\", \"percent_bc_gt_75\", \"pub_rec_bankruptcies\",\n",
    "    \"tax_liens\", \"tot_hi_cred_lim\", \"total_bal_ex_mort\", \"total_bc_limit\",\n",
    "    \"total_il_high_credit_limit\", \"hardship_flag\", \"debt_settlement_flag\"\n",
    "]\n",
    "\n",
    "target = [\"loan_status\"]"
   ]
  },
  {
   "cell_type": "code",
   "execution_count": 4,
   "metadata": {},
   "outputs": [
    {
     "data": {
      "text/html": [
       "<div>\n",
       "<style scoped>\n",
       "    .dataframe tbody tr th:only-of-type {\n",
       "        vertical-align: middle;\n",
       "    }\n",
       "\n",
       "    .dataframe tbody tr th {\n",
       "        vertical-align: top;\n",
       "    }\n",
       "\n",
       "    .dataframe thead th {\n",
       "        text-align: right;\n",
       "    }\n",
       "</style>\n",
       "<table border=\"1\" class=\"dataframe\">\n",
       "  <thead>\n",
       "    <tr style=\"text-align: right;\">\n",
       "      <th></th>\n",
       "      <th>loan_amnt</th>\n",
       "      <th>int_rate</th>\n",
       "      <th>installment</th>\n",
       "      <th>home_ownership</th>\n",
       "      <th>annual_inc</th>\n",
       "      <th>verification_status</th>\n",
       "      <th>issue_d</th>\n",
       "      <th>loan_status</th>\n",
       "      <th>pymnt_plan</th>\n",
       "      <th>dti</th>\n",
       "      <th>...</th>\n",
       "      <th>pct_tl_nvr_dlq</th>\n",
       "      <th>percent_bc_gt_75</th>\n",
       "      <th>pub_rec_bankruptcies</th>\n",
       "      <th>tax_liens</th>\n",
       "      <th>tot_hi_cred_lim</th>\n",
       "      <th>total_bal_ex_mort</th>\n",
       "      <th>total_bc_limit</th>\n",
       "      <th>total_il_high_credit_limit</th>\n",
       "      <th>hardship_flag</th>\n",
       "      <th>debt_settlement_flag</th>\n",
       "    </tr>\n",
       "  </thead>\n",
       "  <tbody>\n",
       "    <tr>\n",
       "      <th>0</th>\n",
       "      <td>10500.0</td>\n",
       "      <td>0.1719</td>\n",
       "      <td>375.35</td>\n",
       "      <td>RENT</td>\n",
       "      <td>66000.0</td>\n",
       "      <td>Source Verified</td>\n",
       "      <td>Mar-2019</td>\n",
       "      <td>low_risk</td>\n",
       "      <td>n</td>\n",
       "      <td>27.24</td>\n",
       "      <td>...</td>\n",
       "      <td>85.7</td>\n",
       "      <td>100.0</td>\n",
       "      <td>0.0</td>\n",
       "      <td>0.0</td>\n",
       "      <td>65687.0</td>\n",
       "      <td>38199.0</td>\n",
       "      <td>2000.0</td>\n",
       "      <td>61987.0</td>\n",
       "      <td>N</td>\n",
       "      <td>N</td>\n",
       "    </tr>\n",
       "    <tr>\n",
       "      <th>1</th>\n",
       "      <td>25000.0</td>\n",
       "      <td>0.2000</td>\n",
       "      <td>929.09</td>\n",
       "      <td>MORTGAGE</td>\n",
       "      <td>105000.0</td>\n",
       "      <td>Verified</td>\n",
       "      <td>Mar-2019</td>\n",
       "      <td>low_risk</td>\n",
       "      <td>n</td>\n",
       "      <td>20.23</td>\n",
       "      <td>...</td>\n",
       "      <td>91.2</td>\n",
       "      <td>50.0</td>\n",
       "      <td>1.0</td>\n",
       "      <td>0.0</td>\n",
       "      <td>271427.0</td>\n",
       "      <td>60641.0</td>\n",
       "      <td>41200.0</td>\n",
       "      <td>49197.0</td>\n",
       "      <td>N</td>\n",
       "      <td>N</td>\n",
       "    </tr>\n",
       "    <tr>\n",
       "      <th>2</th>\n",
       "      <td>20000.0</td>\n",
       "      <td>0.2000</td>\n",
       "      <td>529.88</td>\n",
       "      <td>MORTGAGE</td>\n",
       "      <td>56000.0</td>\n",
       "      <td>Verified</td>\n",
       "      <td>Mar-2019</td>\n",
       "      <td>low_risk</td>\n",
       "      <td>n</td>\n",
       "      <td>24.26</td>\n",
       "      <td>...</td>\n",
       "      <td>66.7</td>\n",
       "      <td>50.0</td>\n",
       "      <td>0.0</td>\n",
       "      <td>0.0</td>\n",
       "      <td>60644.0</td>\n",
       "      <td>45684.0</td>\n",
       "      <td>7500.0</td>\n",
       "      <td>43144.0</td>\n",
       "      <td>N</td>\n",
       "      <td>N</td>\n",
       "    </tr>\n",
       "    <tr>\n",
       "      <th>3</th>\n",
       "      <td>10000.0</td>\n",
       "      <td>0.1640</td>\n",
       "      <td>353.55</td>\n",
       "      <td>RENT</td>\n",
       "      <td>92000.0</td>\n",
       "      <td>Verified</td>\n",
       "      <td>Mar-2019</td>\n",
       "      <td>low_risk</td>\n",
       "      <td>n</td>\n",
       "      <td>31.44</td>\n",
       "      <td>...</td>\n",
       "      <td>100.0</td>\n",
       "      <td>50.0</td>\n",
       "      <td>1.0</td>\n",
       "      <td>0.0</td>\n",
       "      <td>99506.0</td>\n",
       "      <td>68784.0</td>\n",
       "      <td>19700.0</td>\n",
       "      <td>76506.0</td>\n",
       "      <td>N</td>\n",
       "      <td>N</td>\n",
       "    </tr>\n",
       "    <tr>\n",
       "      <th>4</th>\n",
       "      <td>22000.0</td>\n",
       "      <td>0.1474</td>\n",
       "      <td>520.39</td>\n",
       "      <td>MORTGAGE</td>\n",
       "      <td>52000.0</td>\n",
       "      <td>Not Verified</td>\n",
       "      <td>Mar-2019</td>\n",
       "      <td>low_risk</td>\n",
       "      <td>n</td>\n",
       "      <td>18.76</td>\n",
       "      <td>...</td>\n",
       "      <td>100.0</td>\n",
       "      <td>0.0</td>\n",
       "      <td>0.0</td>\n",
       "      <td>0.0</td>\n",
       "      <td>219750.0</td>\n",
       "      <td>25919.0</td>\n",
       "      <td>27600.0</td>\n",
       "      <td>20000.0</td>\n",
       "      <td>N</td>\n",
       "      <td>N</td>\n",
       "    </tr>\n",
       "  </tbody>\n",
       "</table>\n",
       "<p>5 rows × 86 columns</p>\n",
       "</div>"
      ],
      "text/plain": [
       "   loan_amnt  int_rate  installment home_ownership  annual_inc  \\\n",
       "0    10500.0    0.1719       375.35           RENT     66000.0   \n",
       "1    25000.0    0.2000       929.09       MORTGAGE    105000.0   \n",
       "2    20000.0    0.2000       529.88       MORTGAGE     56000.0   \n",
       "3    10000.0    0.1640       353.55           RENT     92000.0   \n",
       "4    22000.0    0.1474       520.39       MORTGAGE     52000.0   \n",
       "\n",
       "  verification_status   issue_d loan_status pymnt_plan    dti  ...  \\\n",
       "0     Source Verified  Mar-2019    low_risk          n  27.24  ...   \n",
       "1            Verified  Mar-2019    low_risk          n  20.23  ...   \n",
       "2            Verified  Mar-2019    low_risk          n  24.26  ...   \n",
       "3            Verified  Mar-2019    low_risk          n  31.44  ...   \n",
       "4        Not Verified  Mar-2019    low_risk          n  18.76  ...   \n",
       "\n",
       "   pct_tl_nvr_dlq  percent_bc_gt_75  pub_rec_bankruptcies  tax_liens  \\\n",
       "0            85.7             100.0                   0.0        0.0   \n",
       "1            91.2              50.0                   1.0        0.0   \n",
       "2            66.7              50.0                   0.0        0.0   \n",
       "3           100.0              50.0                   1.0        0.0   \n",
       "4           100.0               0.0                   0.0        0.0   \n",
       "\n",
       "   tot_hi_cred_lim  total_bal_ex_mort total_bc_limit  \\\n",
       "0          65687.0            38199.0         2000.0   \n",
       "1         271427.0            60641.0        41200.0   \n",
       "2          60644.0            45684.0         7500.0   \n",
       "3          99506.0            68784.0        19700.0   \n",
       "4         219750.0            25919.0        27600.0   \n",
       "\n",
       "   total_il_high_credit_limit  hardship_flag  debt_settlement_flag  \n",
       "0                     61987.0              N                     N  \n",
       "1                     49197.0              N                     N  \n",
       "2                     43144.0              N                     N  \n",
       "3                     76506.0              N                     N  \n",
       "4                     20000.0              N                     N  \n",
       "\n",
       "[5 rows x 86 columns]"
      ]
     },
     "execution_count": 4,
     "metadata": {},
     "output_type": "execute_result"
    }
   ],
   "source": [
    "# Load the data\n",
    "file_path = os.path.join(\"data\",'LoanStats_2019Q1.csv')\n",
    "df = pd.read_csv(file_path, skiprows=1)[:-2]\n",
    "df = df.loc[:, columns].copy()\n",
    "\n",
    "# Drop the null columns where all values are null\n",
    "df = df.dropna(axis='columns', how='all')\n",
    "\n",
    "# Drop the null rows\n",
    "df = df.dropna()\n",
    "\n",
    "# Remove the `Issued` loan status\n",
    "issued_mask = df['loan_status'] != 'Issued'\n",
    "df = df.loc[issued_mask]\n",
    "\n",
    "# convert interest rate to numerical\n",
    "df['int_rate'] = df['int_rate'].str.replace('%', '')\n",
    "df['int_rate'] = df['int_rate'].astype('float') / 100\n",
    "\n",
    "\n",
    "# Convert the target column values to low_risk and high_risk based on their values\n",
    "x = {'Current': 'low_risk'}   \n",
    "df = df.replace(x)\n",
    "\n",
    "x = dict.fromkeys(['Late (31-120 days)', 'Late (16-30 days)', 'Default', 'In Grace Period'], 'high_risk')    \n",
    "df = df.replace(x)\n",
    "\n",
    "df.reset_index(inplace=True, drop=True)\n",
    "\n",
    "df.head()"
   ]
  },
  {
   "cell_type": "code",
   "execution_count": 5,
   "metadata": {},
   "outputs": [
    {
     "name": "stdout",
     "output_type": "stream",
     "text": [
      "<class 'pandas.core.frame.DataFrame'>\n",
      "RangeIndex: 68817 entries, 0 to 68816\n",
      "Data columns (total 86 columns):\n",
      " #   Column                      Non-Null Count  Dtype  \n",
      "---  ------                      --------------  -----  \n",
      " 0   loan_amnt                   68817 non-null  float64\n",
      " 1   int_rate                    68817 non-null  float64\n",
      " 2   installment                 68817 non-null  float64\n",
      " 3   home_ownership              68817 non-null  object \n",
      " 4   annual_inc                  68817 non-null  float64\n",
      " 5   verification_status         68817 non-null  object \n",
      " 6   issue_d                     68817 non-null  object \n",
      " 7   loan_status                 68817 non-null  object \n",
      " 8   pymnt_plan                  68817 non-null  object \n",
      " 9   dti                         68817 non-null  float64\n",
      " 10  delinq_2yrs                 68817 non-null  float64\n",
      " 11  inq_last_6mths              68817 non-null  float64\n",
      " 12  open_acc                    68817 non-null  float64\n",
      " 13  pub_rec                     68817 non-null  float64\n",
      " 14  revol_bal                   68817 non-null  float64\n",
      " 15  total_acc                   68817 non-null  float64\n",
      " 16  initial_list_status         68817 non-null  object \n",
      " 17  out_prncp                   68817 non-null  float64\n",
      " 18  out_prncp_inv               68817 non-null  float64\n",
      " 19  total_pymnt                 68817 non-null  float64\n",
      " 20  total_pymnt_inv             68817 non-null  float64\n",
      " 21  total_rec_prncp             68817 non-null  float64\n",
      " 22  total_rec_int               68817 non-null  float64\n",
      " 23  total_rec_late_fee          68817 non-null  float64\n",
      " 24  recoveries                  68817 non-null  float64\n",
      " 25  collection_recovery_fee     68817 non-null  float64\n",
      " 26  last_pymnt_amnt             68817 non-null  float64\n",
      " 27  next_pymnt_d                68817 non-null  object \n",
      " 28  collections_12_mths_ex_med  68817 non-null  float64\n",
      " 29  policy_code                 68817 non-null  float64\n",
      " 30  application_type            68817 non-null  object \n",
      " 31  acc_now_delinq              68817 non-null  float64\n",
      " 32  tot_coll_amt                68817 non-null  float64\n",
      " 33  tot_cur_bal                 68817 non-null  float64\n",
      " 34  open_acc_6m                 68817 non-null  float64\n",
      " 35  open_act_il                 68817 non-null  float64\n",
      " 36  open_il_12m                 68817 non-null  float64\n",
      " 37  open_il_24m                 68817 non-null  float64\n",
      " 38  mths_since_rcnt_il          68817 non-null  float64\n",
      " 39  total_bal_il                68817 non-null  float64\n",
      " 40  il_util                     68817 non-null  float64\n",
      " 41  open_rv_12m                 68817 non-null  float64\n",
      " 42  open_rv_24m                 68817 non-null  float64\n",
      " 43  max_bal_bc                  68817 non-null  float64\n",
      " 44  all_util                    68817 non-null  float64\n",
      " 45  total_rev_hi_lim            68817 non-null  float64\n",
      " 46  inq_fi                      68817 non-null  float64\n",
      " 47  total_cu_tl                 68817 non-null  float64\n",
      " 48  inq_last_12m                68817 non-null  float64\n",
      " 49  acc_open_past_24mths        68817 non-null  float64\n",
      " 50  avg_cur_bal                 68817 non-null  float64\n",
      " 51  bc_open_to_buy              68817 non-null  float64\n",
      " 52  bc_util                     68817 non-null  float64\n",
      " 53  chargeoff_within_12_mths    68817 non-null  float64\n",
      " 54  delinq_amnt                 68817 non-null  float64\n",
      " 55  mo_sin_old_il_acct          68817 non-null  float64\n",
      " 56  mo_sin_old_rev_tl_op        68817 non-null  float64\n",
      " 57  mo_sin_rcnt_rev_tl_op       68817 non-null  float64\n",
      " 58  mo_sin_rcnt_tl              68817 non-null  float64\n",
      " 59  mort_acc                    68817 non-null  float64\n",
      " 60  mths_since_recent_bc        68817 non-null  float64\n",
      " 61  mths_since_recent_inq       68817 non-null  float64\n",
      " 62  num_accts_ever_120_pd       68817 non-null  float64\n",
      " 63  num_actv_bc_tl              68817 non-null  float64\n",
      " 64  num_actv_rev_tl             68817 non-null  float64\n",
      " 65  num_bc_sats                 68817 non-null  float64\n",
      " 66  num_bc_tl                   68817 non-null  float64\n",
      " 67  num_il_tl                   68817 non-null  float64\n",
      " 68  num_op_rev_tl               68817 non-null  float64\n",
      " 69  num_rev_accts               68817 non-null  float64\n",
      " 70  num_rev_tl_bal_gt_0         68817 non-null  float64\n",
      " 71  num_sats                    68817 non-null  float64\n",
      " 72  num_tl_120dpd_2m            68817 non-null  float64\n",
      " 73  num_tl_30dpd                68817 non-null  float64\n",
      " 74  num_tl_90g_dpd_24m          68817 non-null  float64\n",
      " 75  num_tl_op_past_12m          68817 non-null  float64\n",
      " 76  pct_tl_nvr_dlq              68817 non-null  float64\n",
      " 77  percent_bc_gt_75            68817 non-null  float64\n",
      " 78  pub_rec_bankruptcies        68817 non-null  float64\n",
      " 79  tax_liens                   68817 non-null  float64\n",
      " 80  tot_hi_cred_lim             68817 non-null  float64\n",
      " 81  total_bal_ex_mort           68817 non-null  float64\n",
      " 82  total_bc_limit              68817 non-null  float64\n",
      " 83  total_il_high_credit_limit  68817 non-null  float64\n",
      " 84  hardship_flag               68817 non-null  object \n",
      " 85  debt_settlement_flag        68817 non-null  object \n",
      "dtypes: float64(76), object(10)\n",
      "memory usage: 45.2+ MB\n"
     ]
    }
   ],
   "source": [
    "# look at what still needs cleaned\n",
    "df.info()"
   ]
  },
  {
   "cell_type": "code",
   "execution_count": 6,
   "metadata": {},
   "outputs": [
    {
     "data": {
      "text/html": [
       "<div>\n",
       "<style scoped>\n",
       "    .dataframe tbody tr th:only-of-type {\n",
       "        vertical-align: middle;\n",
       "    }\n",
       "\n",
       "    .dataframe tbody tr th {\n",
       "        vertical-align: top;\n",
       "    }\n",
       "\n",
       "    .dataframe thead th {\n",
       "        text-align: right;\n",
       "    }\n",
       "</style>\n",
       "<table border=\"1\" class=\"dataframe\">\n",
       "  <thead>\n",
       "    <tr style=\"text-align: right;\">\n",
       "      <th></th>\n",
       "      <th>loan_amnt</th>\n",
       "      <th>int_rate</th>\n",
       "      <th>installment</th>\n",
       "      <th>annual_inc</th>\n",
       "      <th>issue_d</th>\n",
       "      <th>loan_status</th>\n",
       "      <th>pymnt_plan</th>\n",
       "      <th>dti</th>\n",
       "      <th>delinq_2yrs</th>\n",
       "      <th>inq_last_6mths</th>\n",
       "      <th>...</th>\n",
       "      <th>home_ownership_MORTGAGE</th>\n",
       "      <th>home_ownership_OWN</th>\n",
       "      <th>home_ownership_RENT</th>\n",
       "      <th>verification_status_Not Verified</th>\n",
       "      <th>verification_status_Source Verified</th>\n",
       "      <th>verification_status_Verified</th>\n",
       "      <th>application_type_Individual</th>\n",
       "      <th>application_type_Joint App</th>\n",
       "      <th>initial_list_status_f</th>\n",
       "      <th>initial_list_status_w</th>\n",
       "    </tr>\n",
       "  </thead>\n",
       "  <tbody>\n",
       "    <tr>\n",
       "      <th>0</th>\n",
       "      <td>10500.0</td>\n",
       "      <td>0.1719</td>\n",
       "      <td>375.35</td>\n",
       "      <td>66000.0</td>\n",
       "      <td>1551398400000000000</td>\n",
       "      <td>False</td>\n",
       "      <td>False</td>\n",
       "      <td>27.24</td>\n",
       "      <td>0.0</td>\n",
       "      <td>0.0</td>\n",
       "      <td>...</td>\n",
       "      <td>0</td>\n",
       "      <td>0</td>\n",
       "      <td>1</td>\n",
       "      <td>0</td>\n",
       "      <td>1</td>\n",
       "      <td>0</td>\n",
       "      <td>1</td>\n",
       "      <td>0</td>\n",
       "      <td>0</td>\n",
       "      <td>1</td>\n",
       "    </tr>\n",
       "    <tr>\n",
       "      <th>1</th>\n",
       "      <td>25000.0</td>\n",
       "      <td>0.2000</td>\n",
       "      <td>929.09</td>\n",
       "      <td>105000.0</td>\n",
       "      <td>1551398400000000000</td>\n",
       "      <td>False</td>\n",
       "      <td>False</td>\n",
       "      <td>20.23</td>\n",
       "      <td>0.0</td>\n",
       "      <td>0.0</td>\n",
       "      <td>...</td>\n",
       "      <td>1</td>\n",
       "      <td>0</td>\n",
       "      <td>0</td>\n",
       "      <td>0</td>\n",
       "      <td>0</td>\n",
       "      <td>1</td>\n",
       "      <td>1</td>\n",
       "      <td>0</td>\n",
       "      <td>0</td>\n",
       "      <td>1</td>\n",
       "    </tr>\n",
       "    <tr>\n",
       "      <th>2</th>\n",
       "      <td>20000.0</td>\n",
       "      <td>0.2000</td>\n",
       "      <td>529.88</td>\n",
       "      <td>56000.0</td>\n",
       "      <td>1551398400000000000</td>\n",
       "      <td>False</td>\n",
       "      <td>False</td>\n",
       "      <td>24.26</td>\n",
       "      <td>0.0</td>\n",
       "      <td>0.0</td>\n",
       "      <td>...</td>\n",
       "      <td>1</td>\n",
       "      <td>0</td>\n",
       "      <td>0</td>\n",
       "      <td>0</td>\n",
       "      <td>0</td>\n",
       "      <td>1</td>\n",
       "      <td>1</td>\n",
       "      <td>0</td>\n",
       "      <td>0</td>\n",
       "      <td>1</td>\n",
       "    </tr>\n",
       "    <tr>\n",
       "      <th>3</th>\n",
       "      <td>10000.0</td>\n",
       "      <td>0.1640</td>\n",
       "      <td>353.55</td>\n",
       "      <td>92000.0</td>\n",
       "      <td>1551398400000000000</td>\n",
       "      <td>False</td>\n",
       "      <td>False</td>\n",
       "      <td>31.44</td>\n",
       "      <td>0.0</td>\n",
       "      <td>1.0</td>\n",
       "      <td>...</td>\n",
       "      <td>0</td>\n",
       "      <td>0</td>\n",
       "      <td>1</td>\n",
       "      <td>0</td>\n",
       "      <td>0</td>\n",
       "      <td>1</td>\n",
       "      <td>1</td>\n",
       "      <td>0</td>\n",
       "      <td>0</td>\n",
       "      <td>1</td>\n",
       "    </tr>\n",
       "    <tr>\n",
       "      <th>4</th>\n",
       "      <td>22000.0</td>\n",
       "      <td>0.1474</td>\n",
       "      <td>520.39</td>\n",
       "      <td>52000.0</td>\n",
       "      <td>1551398400000000000</td>\n",
       "      <td>False</td>\n",
       "      <td>False</td>\n",
       "      <td>18.76</td>\n",
       "      <td>0.0</td>\n",
       "      <td>1.0</td>\n",
       "      <td>...</td>\n",
       "      <td>1</td>\n",
       "      <td>0</td>\n",
       "      <td>0</td>\n",
       "      <td>1</td>\n",
       "      <td>0</td>\n",
       "      <td>0</td>\n",
       "      <td>1</td>\n",
       "      <td>0</td>\n",
       "      <td>0</td>\n",
       "      <td>1</td>\n",
       "    </tr>\n",
       "    <tr>\n",
       "      <th>...</th>\n",
       "      <td>...</td>\n",
       "      <td>...</td>\n",
       "      <td>...</td>\n",
       "      <td>...</td>\n",
       "      <td>...</td>\n",
       "      <td>...</td>\n",
       "      <td>...</td>\n",
       "      <td>...</td>\n",
       "      <td>...</td>\n",
       "      <td>...</td>\n",
       "      <td>...</td>\n",
       "      <td>...</td>\n",
       "      <td>...</td>\n",
       "      <td>...</td>\n",
       "      <td>...</td>\n",
       "      <td>...</td>\n",
       "      <td>...</td>\n",
       "      <td>...</td>\n",
       "      <td>...</td>\n",
       "      <td>...</td>\n",
       "      <td>...</td>\n",
       "    </tr>\n",
       "    <tr>\n",
       "      <th>68812</th>\n",
       "      <td>10000.0</td>\n",
       "      <td>0.1502</td>\n",
       "      <td>346.76</td>\n",
       "      <td>26000.0</td>\n",
       "      <td>1546300800000000000</td>\n",
       "      <td>False</td>\n",
       "      <td>False</td>\n",
       "      <td>9.60</td>\n",
       "      <td>0.0</td>\n",
       "      <td>0.0</td>\n",
       "      <td>...</td>\n",
       "      <td>0</td>\n",
       "      <td>0</td>\n",
       "      <td>1</td>\n",
       "      <td>0</td>\n",
       "      <td>1</td>\n",
       "      <td>0</td>\n",
       "      <td>1</td>\n",
       "      <td>0</td>\n",
       "      <td>0</td>\n",
       "      <td>1</td>\n",
       "    </tr>\n",
       "    <tr>\n",
       "      <th>68813</th>\n",
       "      <td>12000.0</td>\n",
       "      <td>0.2727</td>\n",
       "      <td>368.37</td>\n",
       "      <td>63000.0</td>\n",
       "      <td>1546300800000000000</td>\n",
       "      <td>False</td>\n",
       "      <td>False</td>\n",
       "      <td>29.07</td>\n",
       "      <td>0.0</td>\n",
       "      <td>0.0</td>\n",
       "      <td>...</td>\n",
       "      <td>0</td>\n",
       "      <td>0</td>\n",
       "      <td>1</td>\n",
       "      <td>1</td>\n",
       "      <td>0</td>\n",
       "      <td>0</td>\n",
       "      <td>1</td>\n",
       "      <td>0</td>\n",
       "      <td>0</td>\n",
       "      <td>1</td>\n",
       "    </tr>\n",
       "    <tr>\n",
       "      <th>68814</th>\n",
       "      <td>5000.0</td>\n",
       "      <td>0.1992</td>\n",
       "      <td>185.62</td>\n",
       "      <td>52000.0</td>\n",
       "      <td>1546300800000000000</td>\n",
       "      <td>False</td>\n",
       "      <td>False</td>\n",
       "      <td>14.86</td>\n",
       "      <td>0.0</td>\n",
       "      <td>0.0</td>\n",
       "      <td>...</td>\n",
       "      <td>1</td>\n",
       "      <td>0</td>\n",
       "      <td>0</td>\n",
       "      <td>0</td>\n",
       "      <td>1</td>\n",
       "      <td>0</td>\n",
       "      <td>1</td>\n",
       "      <td>0</td>\n",
       "      <td>0</td>\n",
       "      <td>1</td>\n",
       "    </tr>\n",
       "    <tr>\n",
       "      <th>68815</th>\n",
       "      <td>40000.0</td>\n",
       "      <td>0.0646</td>\n",
       "      <td>1225.24</td>\n",
       "      <td>520000.0</td>\n",
       "      <td>1546300800000000000</td>\n",
       "      <td>False</td>\n",
       "      <td>False</td>\n",
       "      <td>9.96</td>\n",
       "      <td>0.0</td>\n",
       "      <td>1.0</td>\n",
       "      <td>...</td>\n",
       "      <td>1</td>\n",
       "      <td>0</td>\n",
       "      <td>0</td>\n",
       "      <td>0</td>\n",
       "      <td>0</td>\n",
       "      <td>1</td>\n",
       "      <td>1</td>\n",
       "      <td>0</td>\n",
       "      <td>1</td>\n",
       "      <td>0</td>\n",
       "    </tr>\n",
       "    <tr>\n",
       "      <th>68816</th>\n",
       "      <td>16000.0</td>\n",
       "      <td>0.1131</td>\n",
       "      <td>350.36</td>\n",
       "      <td>72000.0</td>\n",
       "      <td>1546300800000000000</td>\n",
       "      <td>False</td>\n",
       "      <td>False</td>\n",
       "      <td>7.02</td>\n",
       "      <td>2.0</td>\n",
       "      <td>0.0</td>\n",
       "      <td>...</td>\n",
       "      <td>1</td>\n",
       "      <td>0</td>\n",
       "      <td>0</td>\n",
       "      <td>0</td>\n",
       "      <td>0</td>\n",
       "      <td>1</td>\n",
       "      <td>1</td>\n",
       "      <td>0</td>\n",
       "      <td>0</td>\n",
       "      <td>1</td>\n",
       "    </tr>\n",
       "  </tbody>\n",
       "</table>\n",
       "<p>68817 rows × 93 columns</p>\n",
       "</div>"
      ],
      "text/plain": [
       "       loan_amnt  int_rate  installment  annual_inc              issue_d  \\\n",
       "0        10500.0    0.1719       375.35     66000.0  1551398400000000000   \n",
       "1        25000.0    0.2000       929.09    105000.0  1551398400000000000   \n",
       "2        20000.0    0.2000       529.88     56000.0  1551398400000000000   \n",
       "3        10000.0    0.1640       353.55     92000.0  1551398400000000000   \n",
       "4        22000.0    0.1474       520.39     52000.0  1551398400000000000   \n",
       "...          ...       ...          ...         ...                  ...   \n",
       "68812    10000.0    0.1502       346.76     26000.0  1546300800000000000   \n",
       "68813    12000.0    0.2727       368.37     63000.0  1546300800000000000   \n",
       "68814     5000.0    0.1992       185.62     52000.0  1546300800000000000   \n",
       "68815    40000.0    0.0646      1225.24    520000.0  1546300800000000000   \n",
       "68816    16000.0    0.1131       350.36     72000.0  1546300800000000000   \n",
       "\n",
       "       loan_status  pymnt_plan    dti  delinq_2yrs  inq_last_6mths  ...  \\\n",
       "0            False       False  27.24          0.0             0.0  ...   \n",
       "1            False       False  20.23          0.0             0.0  ...   \n",
       "2            False       False  24.26          0.0             0.0  ...   \n",
       "3            False       False  31.44          0.0             1.0  ...   \n",
       "4            False       False  18.76          0.0             1.0  ...   \n",
       "...            ...         ...    ...          ...             ...  ...   \n",
       "68812        False       False   9.60          0.0             0.0  ...   \n",
       "68813        False       False  29.07          0.0             0.0  ...   \n",
       "68814        False       False  14.86          0.0             0.0  ...   \n",
       "68815        False       False   9.96          0.0             1.0  ...   \n",
       "68816        False       False   7.02          2.0             0.0  ...   \n",
       "\n",
       "       home_ownership_MORTGAGE  home_ownership_OWN  home_ownership_RENT  \\\n",
       "0                            0                   0                    1   \n",
       "1                            1                   0                    0   \n",
       "2                            1                   0                    0   \n",
       "3                            0                   0                    1   \n",
       "4                            1                   0                    0   \n",
       "...                        ...                 ...                  ...   \n",
       "68812                        0                   0                    1   \n",
       "68813                        0                   0                    1   \n",
       "68814                        1                   0                    0   \n",
       "68815                        1                   0                    0   \n",
       "68816                        1                   0                    0   \n",
       "\n",
       "       verification_status_Not Verified  verification_status_Source Verified  \\\n",
       "0                                     0                                    1   \n",
       "1                                     0                                    0   \n",
       "2                                     0                                    0   \n",
       "3                                     0                                    0   \n",
       "4                                     1                                    0   \n",
       "...                                 ...                                  ...   \n",
       "68812                                 0                                    1   \n",
       "68813                                 1                                    0   \n",
       "68814                                 0                                    1   \n",
       "68815                                 0                                    0   \n",
       "68816                                 0                                    0   \n",
       "\n",
       "       verification_status_Verified  application_type_Individual  \\\n",
       "0                                 0                            1   \n",
       "1                                 1                            1   \n",
       "2                                 1                            1   \n",
       "3                                 1                            1   \n",
       "4                                 0                            1   \n",
       "...                             ...                          ...   \n",
       "68812                             0                            1   \n",
       "68813                             0                            1   \n",
       "68814                             0                            1   \n",
       "68815                             1                            1   \n",
       "68816                             1                            1   \n",
       "\n",
       "       application_type_Joint App  initial_list_status_f  \\\n",
       "0                               0                      0   \n",
       "1                               0                      0   \n",
       "2                               0                      0   \n",
       "3                               0                      0   \n",
       "4                               0                      0   \n",
       "...                           ...                    ...   \n",
       "68812                           0                      0   \n",
       "68813                           0                      0   \n",
       "68814                           0                      0   \n",
       "68815                           0                      1   \n",
       "68816                           0                      0   \n",
       "\n",
       "       initial_list_status_w  \n",
       "0                          1  \n",
       "1                          1  \n",
       "2                          1  \n",
       "3                          1  \n",
       "4                          1  \n",
       "...                      ...  \n",
       "68812                      1  \n",
       "68813                      1  \n",
       "68814                      1  \n",
       "68815                      0  \n",
       "68816                      1  \n",
       "\n",
       "[68817 rows x 93 columns]"
      ]
     },
     "execution_count": 6,
     "metadata": {},
     "output_type": "execute_result"
    }
   ],
   "source": [
    "df[\"issue_d\"] = pd.to_datetime(df[\"issue_d\"])\n",
    "df[\"issue_d\"] = pd.to_numeric(df[\"issue_d\"])\n",
    "df[\"next_pymnt_d\"] = pd.to_datetime(df[\"next_pymnt_d\"])\n",
    "df[\"next_pymnt_d\"] = pd.to_numeric(df[\"next_pymnt_d\"])\n",
    "df[\"hardship_flag\"] = df[\"hardship_flag\"] != 'N'  # N = False\n",
    "df[\"debt_settlement_flag\"] = df[\"debt_settlement_flag\"] != \"N\" # N = False\n",
    "df[\"pymnt_plan\"] = df[\"pymnt_plan\"] != 'n'  # n = False\n",
    "df[\"loan_status\"] = df[\"loan_status\"] != \"low_risk\" # low_risk = FALSE ; high_risk = TRUE\n",
    "pd.get_dummies(df, columns=[\"home_ownership\",\"verification_status\", \"application_type\", \"initial_list_status\"])\n"
   ]
  },
  {
   "cell_type": "code",
   "execution_count": 7,
   "metadata": {},
   "outputs": [
    {
     "name": "stdout",
     "output_type": "stream",
     "text": [
      "<class 'pandas.core.frame.DataFrame'>\n",
      "RangeIndex: 68817 entries, 0 to 68816\n",
      "Data columns (total 86 columns):\n",
      " #   Column                      Non-Null Count  Dtype  \n",
      "---  ------                      --------------  -----  \n",
      " 0   loan_amnt                   68817 non-null  float64\n",
      " 1   int_rate                    68817 non-null  float64\n",
      " 2   installment                 68817 non-null  float64\n",
      " 3   home_ownership              68817 non-null  object \n",
      " 4   annual_inc                  68817 non-null  float64\n",
      " 5   verification_status         68817 non-null  object \n",
      " 6   issue_d                     68817 non-null  int64  \n",
      " 7   loan_status                 68817 non-null  bool   \n",
      " 8   pymnt_plan                  68817 non-null  bool   \n",
      " 9   dti                         68817 non-null  float64\n",
      " 10  delinq_2yrs                 68817 non-null  float64\n",
      " 11  inq_last_6mths              68817 non-null  float64\n",
      " 12  open_acc                    68817 non-null  float64\n",
      " 13  pub_rec                     68817 non-null  float64\n",
      " 14  revol_bal                   68817 non-null  float64\n",
      " 15  total_acc                   68817 non-null  float64\n",
      " 16  initial_list_status         68817 non-null  object \n",
      " 17  out_prncp                   68817 non-null  float64\n",
      " 18  out_prncp_inv               68817 non-null  float64\n",
      " 19  total_pymnt                 68817 non-null  float64\n",
      " 20  total_pymnt_inv             68817 non-null  float64\n",
      " 21  total_rec_prncp             68817 non-null  float64\n",
      " 22  total_rec_int               68817 non-null  float64\n",
      " 23  total_rec_late_fee          68817 non-null  float64\n",
      " 24  recoveries                  68817 non-null  float64\n",
      " 25  collection_recovery_fee     68817 non-null  float64\n",
      " 26  last_pymnt_amnt             68817 non-null  float64\n",
      " 27  next_pymnt_d                68817 non-null  int64  \n",
      " 28  collections_12_mths_ex_med  68817 non-null  float64\n",
      " 29  policy_code                 68817 non-null  float64\n",
      " 30  application_type            68817 non-null  object \n",
      " 31  acc_now_delinq              68817 non-null  float64\n",
      " 32  tot_coll_amt                68817 non-null  float64\n",
      " 33  tot_cur_bal                 68817 non-null  float64\n",
      " 34  open_acc_6m                 68817 non-null  float64\n",
      " 35  open_act_il                 68817 non-null  float64\n",
      " 36  open_il_12m                 68817 non-null  float64\n",
      " 37  open_il_24m                 68817 non-null  float64\n",
      " 38  mths_since_rcnt_il          68817 non-null  float64\n",
      " 39  total_bal_il                68817 non-null  float64\n",
      " 40  il_util                     68817 non-null  float64\n",
      " 41  open_rv_12m                 68817 non-null  float64\n",
      " 42  open_rv_24m                 68817 non-null  float64\n",
      " 43  max_bal_bc                  68817 non-null  float64\n",
      " 44  all_util                    68817 non-null  float64\n",
      " 45  total_rev_hi_lim            68817 non-null  float64\n",
      " 46  inq_fi                      68817 non-null  float64\n",
      " 47  total_cu_tl                 68817 non-null  float64\n",
      " 48  inq_last_12m                68817 non-null  float64\n",
      " 49  acc_open_past_24mths        68817 non-null  float64\n",
      " 50  avg_cur_bal                 68817 non-null  float64\n",
      " 51  bc_open_to_buy              68817 non-null  float64\n",
      " 52  bc_util                     68817 non-null  float64\n",
      " 53  chargeoff_within_12_mths    68817 non-null  float64\n",
      " 54  delinq_amnt                 68817 non-null  float64\n",
      " 55  mo_sin_old_il_acct          68817 non-null  float64\n",
      " 56  mo_sin_old_rev_tl_op        68817 non-null  float64\n",
      " 57  mo_sin_rcnt_rev_tl_op       68817 non-null  float64\n",
      " 58  mo_sin_rcnt_tl              68817 non-null  float64\n",
      " 59  mort_acc                    68817 non-null  float64\n",
      " 60  mths_since_recent_bc        68817 non-null  float64\n",
      " 61  mths_since_recent_inq       68817 non-null  float64\n",
      " 62  num_accts_ever_120_pd       68817 non-null  float64\n",
      " 63  num_actv_bc_tl              68817 non-null  float64\n",
      " 64  num_actv_rev_tl             68817 non-null  float64\n",
      " 65  num_bc_sats                 68817 non-null  float64\n",
      " 66  num_bc_tl                   68817 non-null  float64\n",
      " 67  num_il_tl                   68817 non-null  float64\n",
      " 68  num_op_rev_tl               68817 non-null  float64\n",
      " 69  num_rev_accts               68817 non-null  float64\n",
      " 70  num_rev_tl_bal_gt_0         68817 non-null  float64\n",
      " 71  num_sats                    68817 non-null  float64\n",
      " 72  num_tl_120dpd_2m            68817 non-null  float64\n",
      " 73  num_tl_30dpd                68817 non-null  float64\n",
      " 74  num_tl_90g_dpd_24m          68817 non-null  float64\n",
      " 75  num_tl_op_past_12m          68817 non-null  float64\n",
      " 76  pct_tl_nvr_dlq              68817 non-null  float64\n",
      " 77  percent_bc_gt_75            68817 non-null  float64\n",
      " 78  pub_rec_bankruptcies        68817 non-null  float64\n",
      " 79  tax_liens                   68817 non-null  float64\n",
      " 80  tot_hi_cred_lim             68817 non-null  float64\n",
      " 81  total_bal_ex_mort           68817 non-null  float64\n",
      " 82  total_bc_limit              68817 non-null  float64\n",
      " 83  total_il_high_credit_limit  68817 non-null  float64\n",
      " 84  hardship_flag               68817 non-null  bool   \n",
      " 85  debt_settlement_flag        68817 non-null  bool   \n",
      "dtypes: bool(4), float64(76), int64(2), object(4)\n",
      "memory usage: 43.3+ MB\n"
     ]
    }
   ],
   "source": [
    "df.info()"
   ]
  },
  {
   "cell_type": "code",
   "execution_count": 8,
   "metadata": {},
   "outputs": [
    {
     "name": "stdout",
     "output_type": "stream",
     "text": [
      "<class 'pandas.core.frame.DataFrame'>\n",
      "RangeIndex: 68817 entries, 0 to 68816\n",
      "Data columns (total 82 columns):\n",
      " #   Column                      Non-Null Count  Dtype  \n",
      "---  ------                      --------------  -----  \n",
      " 0   loan_amnt                   68817 non-null  float64\n",
      " 1   int_rate                    68817 non-null  float64\n",
      " 2   installment                 68817 non-null  float64\n",
      " 3   annual_inc                  68817 non-null  float64\n",
      " 4   issue_d                     68817 non-null  int64  \n",
      " 5   loan_status                 68817 non-null  bool   \n",
      " 6   pymnt_plan                  68817 non-null  bool   \n",
      " 7   dti                         68817 non-null  float64\n",
      " 8   delinq_2yrs                 68817 non-null  float64\n",
      " 9   inq_last_6mths              68817 non-null  float64\n",
      " 10  open_acc                    68817 non-null  float64\n",
      " 11  pub_rec                     68817 non-null  float64\n",
      " 12  revol_bal                   68817 non-null  float64\n",
      " 13  total_acc                   68817 non-null  float64\n",
      " 14  out_prncp                   68817 non-null  float64\n",
      " 15  out_prncp_inv               68817 non-null  float64\n",
      " 16  total_pymnt                 68817 non-null  float64\n",
      " 17  total_pymnt_inv             68817 non-null  float64\n",
      " 18  total_rec_prncp             68817 non-null  float64\n",
      " 19  total_rec_int               68817 non-null  float64\n",
      " 20  total_rec_late_fee          68817 non-null  float64\n",
      " 21  recoveries                  68817 non-null  float64\n",
      " 22  collection_recovery_fee     68817 non-null  float64\n",
      " 23  last_pymnt_amnt             68817 non-null  float64\n",
      " 24  next_pymnt_d                68817 non-null  int64  \n",
      " 25  collections_12_mths_ex_med  68817 non-null  float64\n",
      " 26  policy_code                 68817 non-null  float64\n",
      " 27  acc_now_delinq              68817 non-null  float64\n",
      " 28  tot_coll_amt                68817 non-null  float64\n",
      " 29  tot_cur_bal                 68817 non-null  float64\n",
      " 30  open_acc_6m                 68817 non-null  float64\n",
      " 31  open_act_il                 68817 non-null  float64\n",
      " 32  open_il_12m                 68817 non-null  float64\n",
      " 33  open_il_24m                 68817 non-null  float64\n",
      " 34  mths_since_rcnt_il          68817 non-null  float64\n",
      " 35  total_bal_il                68817 non-null  float64\n",
      " 36  il_util                     68817 non-null  float64\n",
      " 37  open_rv_12m                 68817 non-null  float64\n",
      " 38  open_rv_24m                 68817 non-null  float64\n",
      " 39  max_bal_bc                  68817 non-null  float64\n",
      " 40  all_util                    68817 non-null  float64\n",
      " 41  total_rev_hi_lim            68817 non-null  float64\n",
      " 42  inq_fi                      68817 non-null  float64\n",
      " 43  total_cu_tl                 68817 non-null  float64\n",
      " 44  inq_last_12m                68817 non-null  float64\n",
      " 45  acc_open_past_24mths        68817 non-null  float64\n",
      " 46  avg_cur_bal                 68817 non-null  float64\n",
      " 47  bc_open_to_buy              68817 non-null  float64\n",
      " 48  bc_util                     68817 non-null  float64\n",
      " 49  chargeoff_within_12_mths    68817 non-null  float64\n",
      " 50  delinq_amnt                 68817 non-null  float64\n",
      " 51  mo_sin_old_il_acct          68817 non-null  float64\n",
      " 52  mo_sin_old_rev_tl_op        68817 non-null  float64\n",
      " 53  mo_sin_rcnt_rev_tl_op       68817 non-null  float64\n",
      " 54  mo_sin_rcnt_tl              68817 non-null  float64\n",
      " 55  mort_acc                    68817 non-null  float64\n",
      " 56  mths_since_recent_bc        68817 non-null  float64\n",
      " 57  mths_since_recent_inq       68817 non-null  float64\n",
      " 58  num_accts_ever_120_pd       68817 non-null  float64\n",
      " 59  num_actv_bc_tl              68817 non-null  float64\n",
      " 60  num_actv_rev_tl             68817 non-null  float64\n",
      " 61  num_bc_sats                 68817 non-null  float64\n",
      " 62  num_bc_tl                   68817 non-null  float64\n",
      " 63  num_il_tl                   68817 non-null  float64\n",
      " 64  num_op_rev_tl               68817 non-null  float64\n",
      " 65  num_rev_accts               68817 non-null  float64\n",
      " 66  num_rev_tl_bal_gt_0         68817 non-null  float64\n",
      " 67  num_sats                    68817 non-null  float64\n",
      " 68  num_tl_120dpd_2m            68817 non-null  float64\n",
      " 69  num_tl_30dpd                68817 non-null  float64\n",
      " 70  num_tl_90g_dpd_24m          68817 non-null  float64\n",
      " 71  num_tl_op_past_12m          68817 non-null  float64\n",
      " 72  pct_tl_nvr_dlq              68817 non-null  float64\n",
      " 73  percent_bc_gt_75            68817 non-null  float64\n",
      " 74  pub_rec_bankruptcies        68817 non-null  float64\n",
      " 75  tax_liens                   68817 non-null  float64\n",
      " 76  tot_hi_cred_lim             68817 non-null  float64\n",
      " 77  total_bal_ex_mort           68817 non-null  float64\n",
      " 78  total_bc_limit              68817 non-null  float64\n",
      " 79  total_il_high_credit_limit  68817 non-null  float64\n",
      " 80  hardship_flag               68817 non-null  bool   \n",
      " 81  debt_settlement_flag        68817 non-null  bool   \n",
      "dtypes: bool(4), float64(76), int64(2)\n",
      "memory usage: 41.2 MB\n"
     ]
    }
   ],
   "source": [
    "cleaned_df = df.drop(columns=[\"home_ownership\",\"verification_status\", \"application_type\", \"initial_list_status\"])\n",
    "cleaned_df.info()"
   ]
  },
  {
   "cell_type": "code",
   "execution_count": 9,
   "metadata": {},
   "outputs": [],
   "source": [
    "data_scaler = StandardScaler()\n",
    "scaled_data = data_scaler.fit_transform(cleaned_df)"
   ]
  },
  {
   "cell_type": "markdown",
   "metadata": {},
   "source": [
    "# Split the Data into Training and Testing"
   ]
  },
  {
   "cell_type": "code",
   "execution_count": 10,
   "metadata": {},
   "outputs": [],
   "source": [
    "# Create our features\n",
    "X = data_scaler.fit_transform(cleaned_df.drop(columns=\"loan_status\"))\n",
    "\n",
    "\n",
    "# Create our target\n",
    "y = cleaned_df[\"loan_status\"]"
   ]
  },
  {
   "cell_type": "code",
   "execution_count": 11,
   "metadata": {},
   "outputs": [
    {
     "data": {
      "text/plain": [
       "array([[-6.01092723e-01,  9.17984364e-01, -3.65558353e-01,\n",
       "        -1.92194797e-01,  1.67060072e+00,  0.00000000e+00,\n",
       "         2.70400563e-01, -3.03142532e-01, -6.56491511e-01,\n",
       "        -7.61659174e-01, -3.74204323e-01, -7.32521829e-01,\n",
       "        -8.65857295e-01, -5.81245133e-01, -5.80819581e-01,\n",
       "        -5.00465445e-01, -5.00293345e-01, -3.22863900e-01,\n",
       "        -8.99604190e-01, -3.22736265e-02,  0.00000000e+00,\n",
       "         0.00000000e+00, -1.73835281e-01,  7.88142711e-01,\n",
       "        -1.20112470e-01,  0.00000000e+00,  0.00000000e+00,\n",
       "        -5.89694662e-03, -7.26922276e-01,  1.67997825e+00,\n",
       "         2.39253304e-01,  1.19137226e+00,  1.35299632e+00,\n",
       "        -8.08956027e-01, -1.34187152e-01, -4.57175710e-01,\n",
       "        -1.63101750e-01, -2.48640217e-01, -8.32039942e-01,\n",
       "         1.24221966e-01, -1.04213361e+00, -2.47582393e-01,\n",
       "        -5.91660154e-01,  7.55780406e-01,  3.72749228e-01,\n",
       "        -5.90524188e-01, -8.09152878e-01,  1.04494582e+00,\n",
       "        -7.82090839e-02, -7.78953140e-03, -5.69940224e-01,\n",
       "        -7.98162796e-01, -6.48459594e-01, -6.63139469e-01,\n",
       "        -8.24986795e-01, -1.46743168e-01, -1.10824038e+00,\n",
       "        -3.34903552e-01, -1.13862411e+00, -1.05103022e+00,\n",
       "        -1.27998521e+00, -1.40011594e+00,  6.59969904e-02,\n",
       "        -1.11347944e+00, -1.31043257e+00, -1.05194370e+00,\n",
       "        -7.59306928e-01,  0.00000000e+00,  0.00000000e+00,\n",
       "        -1.33472172e-01,  4.11389226e-01, -1.12385485e+00,\n",
       "         2.06277933e+00, -3.74103443e-01,  0.00000000e+00,\n",
       "        -7.48654947e-01, -4.03213352e-01, -1.03504094e+00,\n",
       "         1.22936320e-01,  0.00000000e+00,  0.00000000e+00],\n",
       "       [ 8.09787255e-01,  1.50182932e+00,  1.55674724e+00,\n",
       "         1.45236397e-01,  1.67060072e+00,  0.00000000e+00,\n",
       "        -7.66446528e-02, -3.03142532e-01, -6.56491511e-01,\n",
       "         7.32656063e-01,  2.59496654e+00,  3.49819979e-02,\n",
       "         7.57673792e-01,  8.27211454e-01,  8.27314568e-01,\n",
       "        -7.89794059e-02, -7.88095562e-02,  4.27277597e-02,\n",
       "        -5.18954654e-01, -3.22736265e-02,  0.00000000e+00,\n",
       "         0.00000000e+00,  5.04755083e-01,  7.88142711e-01,\n",
       "        -1.20112470e-01,  0.00000000e+00,  0.00000000e+00,\n",
       "        -1.30854466e-02,  3.74902281e-01,  1.67997825e+00,\n",
       "        -9.79514110e-02,  1.19137226e+00,  7.05739781e-01,\n",
       "        -7.37386960e-01, -1.95202319e-02,  7.51583900e-01,\n",
       "         1.87530974e+00,  2.14887602e+00, -1.92992867e-01,\n",
       "         2.86424935e-01,  2.14392546e-01,  1.69641915e+00,\n",
       "         2.56330882e+00,  3.38447424e-01,  2.59825380e+00,\n",
       "        -4.56345799e-02,  6.11829064e-01, -7.09122909e-01,\n",
       "        -7.82090839e-02, -7.78953140e-03, -6.75261698e-01,\n",
       "         1.11814987e+00, -7.63289990e-01, -9.80447694e-01,\n",
       "         3.19332562e-01, -7.38078757e-01,  5.48810751e-01,\n",
       "         1.79153573e+00,  1.29596036e+00,  1.54194528e+00,\n",
       "         8.86776436e-01,  1.21920657e+00,  5.94134078e-01,\n",
       "         8.63994250e-01,  5.58470148e-01,  1.53973414e+00,\n",
       "         7.35393288e-01,  0.00000000e+00,  0.00000000e+00,\n",
       "        -1.33472172e-01,  1.99248491e+00, -4.63302569e-01,\n",
       "         5.76065437e-01,  2.59563662e+00,  0.00000000e+00,\n",
       "         3.18420236e-01, -1.21529903e-02,  4.27907671e-01,\n",
       "        -1.28054315e-01,  0.00000000e+00,  0.00000000e+00],\n",
       "       [ 3.23276918e-01,  1.50182932e+00,  1.70891756e-01,\n",
       "        -2.78715616e-01,  1.67060072e+00,  0.00000000e+00,\n",
       "         1.22869216e-01, -3.03142532e-01, -6.56491511e-01,\n",
       "        -7.61659174e-01, -3.74204323e-01, -1.99541965e-01,\n",
       "        -2.97621415e-01,  3.61699549e-01,  3.61909233e-01,\n",
       "        -3.94614087e-01, -3.94442552e-01, -2.62414392e-01,\n",
       "        -6.77755207e-01, -3.22736265e-02,  0.00000000e+00,\n",
       "         0.00000000e+00,  1.55362092e-02,  7.88142711e-01,\n",
       "        -1.20112470e-01,  0.00000000e+00,  0.00000000e+00,\n",
       "        -1.04324100e-01, -6.83497904e-01,  8.30196824e-01,\n",
       "        -9.79514110e-02,  1.19137226e+00,  7.05739781e-01,\n",
       "        -7.37386960e-01, -2.17982985e-01,  2.59126281e-01,\n",
       "         5.16368746e-01,  1.50945823e-01, -6.11600268e-01,\n",
       "         1.04337212e+00, -6.70826096e-01, -8.95582908e-01,\n",
       "         8.10548278e-01, -4.96218540e-01,  3.72749228e-01,\n",
       "        -5.31521796e-01, -6.92168235e-01,  4.89905815e-01,\n",
       "        -7.82090839e-02, -7.78953140e-03,  5.88595988e-01,\n",
       "        -1.93011427e-01, -4.18798803e-01, -5.04485357e-01,\n",
       "        -8.24986795e-01, -5.51341202e-01, -1.14009703e-01,\n",
       "         3.91797501e+00, -7.32860034e-01, -1.86705054e-01,\n",
       "        -9.70447829e-01, -9.04546835e-02, -1.98071554e-01,\n",
       "        -7.17984698e-01, -6.44974261e-02, -1.88051082e-01,\n",
       "        -7.59306928e-01,  0.00000000e+00,  0.00000000e+00,\n",
       "        -1.33472172e-01,  9.38421122e-01, -3.40576271e+00,\n",
       "         5.76065437e-01, -3.74103443e-01,  0.00000000e+00,\n",
       "        -7.74810581e-01, -2.72784388e-01, -8.29780294e-01,\n",
       "        -2.46838233e-01,  0.00000000e+00,  0.00000000e+00],\n",
       "       [-6.49743757e-01,  7.53842900e-01, -4.41236942e-01,\n",
       "         3.27593326e-02,  1.67060072e+00,  0.00000000e+00,\n",
       "         4.78330649e-01, -3.03142532e-01,  6.62567652e-01,\n",
       "        -4.29589121e-01,  2.59496654e+00,  1.79456936e-02,\n",
       "        -1.35268306e-01, -6.29785402e-01, -6.29348737e-01,\n",
       "        -5.16698969e-01, -5.16526782e-01, -3.35712084e-01,\n",
       "        -9.19226405e-01, -3.22736265e-02,  0.00000000e+00,\n",
       "         0.00000000e+00, -2.00550472e-01,  7.88142711e-01,\n",
       "        -1.20112470e-01,  0.00000000e+00,  0.00000000e+00,\n",
       "        -1.04324100e-01, -5.49482806e-01, -8.69366021e-01,\n",
       "         2.39253304e-01,  1.61013652e-01,  7.05739781e-01,\n",
       "        -3.79541627e-01,  1.52288465e-01, -1.43793589e-01,\n",
       "        -8.42572245e-01, -6.48226257e-01,  1.09620582e-02,\n",
       "         7.18966185e-01, -5.22841216e-01,  1.04841864e+00,\n",
       "         1.16110039e+00,  7.55780406e-01, -2.63109221e-01,\n",
       "        -4.57957917e-01, -5.91420590e-01,  9.52439150e-01,\n",
       "        -7.82090839e-02, -7.78953140e-03, -4.47065172e-01,\n",
       "        -8.68763789e-01,  5.57259561e-01,  2.88785204e-01,\n",
       "        -8.24986795e-01,  2.88977792e-01, -1.27394550e+00,\n",
       "        -3.34903552e-01,  7.86681249e-02,  1.01403335e-01,\n",
       "        -3.51373074e-01, -7.45285312e-01,  9.90236894e-01,\n",
       "        -5.20237330e-01, -9.36652029e-01,  9.99131218e-02,\n",
       "        -4.27151324e-01,  0.00000000e+00,  0.00000000e+00,\n",
       "        -1.33472172e-01, -6.42674566e-01,  5.93581073e-01,\n",
       "         5.76065437e-01,  2.59563662e+00,  0.00000000e+00,\n",
       "        -5.73251936e-01,  1.29741873e-01, -3.74474859e-01,\n",
       "         4.07856808e-01,  0.00000000e+00,  0.00000000e+00],\n",
       "       [ 5.17881053e-01,  4.08938051e-01,  1.37947269e-01,\n",
       "        -3.13323943e-01,  1.67060072e+00,  0.00000000e+00,\n",
       "        -1.49420183e-01, -3.03142532e-01,  6.62567652e-01,\n",
       "         2.34550984e-01, -3.74204323e-01, -3.89872289e-01,\n",
       "         2.70614466e-01,  5.59441685e-01,  5.59606100e-01,\n",
       "        -3.95492454e-01, -3.95320914e-01, -2.42826905e-01,\n",
       "        -7.60461594e-01, -3.22736265e-02,  0.00000000e+00,\n",
       "         0.00000000e+00,  3.90652276e-03,  7.88142711e-01,\n",
       "        -1.20112470e-01,  0.00000000e+00,  0.00000000e+00,\n",
       "        -1.04324100e-01,  8.26565448e-02, -8.69366021e-01,\n",
       "        -7.72360841e-01, -8.69344959e-01,  5.84832406e-02,\n",
       "        -2.16962941e-02, -5.32928606e-01,  6.62046151e-01,\n",
       "        -1.63101750e-01, -6.48226257e-01, -4.73058229e-01,\n",
       "        -7.94928190e-01,  1.79762517e-02,  4.00418122e-01,\n",
       "        -5.91660154e-01, -7.88855578e-02, -2.63109221e-01,\n",
       "        -2.96232471e-02,  1.32397435e-01, -7.02007011e-01,\n",
       "        -7.82090839e-02, -7.78953140e-03, -1.02633328e+00,\n",
       "        -3.74556838e-01, -1.89138011e-01,  6.06093429e-01,\n",
       "         1.46365192e+00, -4.26849500e-01, -1.27394550e+00,\n",
       "        -3.34903552e-01,  7.86681249e-02,  1.01403335e-01,\n",
       "         5.77239058e-01,  7.82652821e-01, -4.62140097e-01,\n",
       "         6.66246881e-01,  5.58470148e-01,  9.99131218e-02,\n",
       "         2.37159883e-01,  0.00000000e+00,  0.00000000e+00,\n",
       "        -1.33472172e-01, -6.42674566e-01,  5.93581073e-01,\n",
       "        -9.10648458e-01, -3.74103443e-01,  0.00000000e+00,\n",
       "         5.03963016e-02, -6.17197009e-01, -7.96459289e-02,\n",
       "        -7.01015501e-01,  0.00000000e+00,  0.00000000e+00]])"
      ]
     },
     "execution_count": 11,
     "metadata": {},
     "output_type": "execute_result"
    }
   ],
   "source": [
    "X[:5,]"
   ]
  },
  {
   "cell_type": "code",
   "execution_count": 12,
   "metadata": {},
   "outputs": [
    {
     "data": {
      "text/plain": [
       "False    68470\n",
       "True       347\n",
       "Name: loan_status, dtype: int64"
      ]
     },
     "execution_count": 12,
     "metadata": {},
     "output_type": "execute_result"
    }
   ],
   "source": [
    "# Check the balance of our target values\n",
    "y.value_counts()"
   ]
  },
  {
   "cell_type": "code",
   "execution_count": 13,
   "metadata": {},
   "outputs": [],
   "source": [
    "X_train, X_test, y_train, y_test = train_test_split(X,y, random_state=9, stratify=y) \n",
    "classifier = LogisticRegression(random_state=9, max_iter=200)"
   ]
  },
  {
   "cell_type": "markdown",
   "metadata": {},
   "source": [
    "# Oversampling\n",
    "\n",
    "In this section, you will compare two oversampling algorithms to determine which algorithm results in the best performance. You will oversample the data using the naive random oversampling algorithm and the SMOTE algorithm. For each algorithm, be sure to complete the folliowing steps:\n",
    "\n",
    "1. View the count of the target classes using `Counter` from the collections library. \n",
    "3. Use the resampled data to train a logistic regression model.\n",
    "3. Calculate the balanced accuracy score from sklearn.metrics.\n",
    "4. Print the confusion matrix from sklearn.metrics.\n",
    "5. Generate a classication report using the `imbalanced_classification_report` from imbalanced-learn.\n",
    "\n",
    "Note: Use a random state of 1 for each sampling algorithm to ensure consistency between tests"
   ]
  },
  {
   "cell_type": "markdown",
   "metadata": {},
   "source": [
    "### Naive Random Oversampling"
   ]
  },
  {
   "cell_type": "code",
   "execution_count": 14,
   "metadata": {},
   "outputs": [
    {
     "name": "stdout",
     "output_type": "stream",
     "text": [
      "Counter({False: 51352, True: 260}) \n",
      " Counter({False: 51352, True: 51352})\n"
     ]
    }
   ],
   "source": [
    "# Resample the training data with the RandomOversampler\n",
    "ros = RandomOverSampler(random_state=1)\n",
    "X_resampled, y_resampled = ros.fit_resample(X_train,y_train)\n",
    "print(Counter(y_train), \"\\n\", Counter(y_resampled))   # False = low_risk ; True = high_risk"
   ]
  },
  {
   "cell_type": "code",
   "execution_count": 15,
   "metadata": {},
   "outputs": [
    {
     "data": {
      "text/plain": [
       "LogisticRegression(max_iter=200, random_state=9)"
      ]
     },
     "execution_count": 15,
     "metadata": {},
     "output_type": "execute_result"
    }
   ],
   "source": [
    "# Train the Logistic Regression model using the resampled data\n",
    "classifier.fit(X_resampled, y_resampled)\n",
    "# scaled_classifier.fit(X_resampled, y_resampled)"
   ]
  },
  {
   "cell_type": "code",
   "execution_count": 16,
   "metadata": {},
   "outputs": [
    {
     "name": "stdout",
     "output_type": "stream",
     "text": [
      "Accuracy Score:  0.8069596029184847\n"
     ]
    }
   ],
   "source": [
    "over_sampled_predict = classifier.predict(X_test)\n",
    "print(\"Accuracy Score: \", metrics.balanced_accuracy_score(y_test, over_sampled_predict))"
   ]
  },
  {
   "cell_type": "code",
   "execution_count": 17,
   "metadata": {},
   "outputs": [
    {
     "data": {
      "text/plain": [
       "array([[14641,  2477],\n",
       "       [   21,    66]], dtype=int64)"
      ]
     },
     "execution_count": 17,
     "metadata": {},
     "output_type": "execute_result"
    }
   ],
   "source": [
    "# Display the confusion matrix\n",
    "metrics.confusion_matrix(y_test, over_sampled_predict)"
   ]
  },
  {
   "cell_type": "code",
   "execution_count": 18,
   "metadata": {},
   "outputs": [
    {
     "name": "stdout",
     "output_type": "stream",
     "text": [
      "False = low_risk \n",
      " True = high_risk\n",
      "===============================================\n",
      "                   pre       rec       spe        f1       geo       iba       sup\n",
      "\n",
      "      False       1.00      0.86      0.76      0.92      0.81      0.66     17118\n",
      "       True       0.03      0.76      0.86      0.05      0.81      0.64        87\n",
      "\n",
      "avg / total       0.99      0.85      0.76      0.92      0.81      0.66     17205\n",
      "\n"
     ]
    }
   ],
   "source": [
    "# Print the imbalanced classification report\n",
    "over_sampled_predict = classifier.predict(X_test)\n",
    "print(\"False = low_risk\", \"\\n True = high_risk\")\n",
    "print(\"===============================================\")\n",
    "print(classification_report_imbalanced(y_test, over_sampled_predict))\n"
   ]
  },
  {
   "cell_type": "markdown",
   "metadata": {},
   "source": [
    "### SMOTE Oversampling"
   ]
  },
  {
   "cell_type": "code",
   "execution_count": 19,
   "metadata": {},
   "outputs": [],
   "source": [
    "# Resample the training data with SMOTE\n",
    "X_resampled, y_resampled = SMOTE(random_state=9, sampling_strategy='auto').fit_resample(X_train, y_train)\n"
   ]
  },
  {
   "cell_type": "code",
   "execution_count": 20,
   "metadata": {},
   "outputs": [
    {
     "data": {
      "text/plain": [
       "LogisticRegression(max_iter=200, random_state=9)"
      ]
     },
     "execution_count": 20,
     "metadata": {},
     "output_type": "execute_result"
    }
   ],
   "source": [
    "# Train the Logistic Regression model using the resampled data\n",
    "classifier.fit(X_resampled, y_resampled)"
   ]
  },
  {
   "cell_type": "code",
   "execution_count": 21,
   "metadata": {},
   "outputs": [
    {
     "data": {
      "text/plain": [
       "0.7935516556478157"
      ]
     },
     "execution_count": 21,
     "metadata": {},
     "output_type": "execute_result"
    }
   ],
   "source": [
    "# Calculated the balanced accuracy score\n",
    "smote_predict = classifier.predict(X_test)\n",
    "metrics.balanced_accuracy_score(y_test, smote_predict)\n"
   ]
  },
  {
   "cell_type": "code",
   "execution_count": 22,
   "metadata": {},
   "outputs": [
    {
     "data": {
      "text/plain": [
       "array([[14969,  2149],\n",
       "       [   25,    62]], dtype=int64)"
      ]
     },
     "execution_count": 22,
     "metadata": {},
     "output_type": "execute_result"
    }
   ],
   "source": [
    "# Display the confusion matrix\n",
    "metrics.confusion_matrix(y_test, smote_predict)"
   ]
  },
  {
   "cell_type": "code",
   "execution_count": 23,
   "metadata": {},
   "outputs": [
    {
     "name": "stdout",
     "output_type": "stream",
     "text": [
      "False = low_risk \n",
      " True = high_risk\n",
      "===============================================\n",
      "                   pre       rec       spe        f1       geo       iba       sup\n",
      "\n",
      "      False       1.00      0.87      0.71      0.93      0.79      0.63     17118\n",
      "       True       0.03      0.71      0.87      0.05      0.79      0.61        87\n",
      "\n",
      "avg / total       0.99      0.87      0.71      0.93      0.79      0.63     17205\n",
      "\n"
     ]
    }
   ],
   "source": [
    "# Print the imbalanced classification report\n",
    "print(\"False = low_risk\", \"\\n True = high_risk\")\n",
    "print(\"===============================================\")\n",
    "print(classification_report_imbalanced(y_test, smote_predict))\n"
   ]
  },
  {
   "cell_type": "markdown",
   "metadata": {},
   "source": [
    "# Undersampling\n",
    "\n",
    "In this section, you will test an undersampling algorithms to determine which algorithm results in the best performance compared to the oversampling algorithms above. You will undersample the data using the Cluster Centroids algorithm and complete the folliowing steps:\n",
    "\n",
    "1. View the count of the target classes using `Counter` from the collections library. \n",
    "3. Use the resampled data to train a logistic regression model.\n",
    "3. Calculate the balanced accuracy score from sklearn.metrics.\n",
    "4. Print the confusion matrix from sklearn.metrics.\n",
    "5. Generate a classication report using the `imbalanced_classification_report` from imbalanced-learn.\n",
    "\n",
    "Note: Use a random state of 1 for each sampling algorithm to ensure consistency between tests"
   ]
  },
  {
   "cell_type": "code",
   "execution_count": 24,
   "metadata": {},
   "outputs": [],
   "source": [
    "# Resample the data using the ClusterCentroids resampler\n",
    "# Warning: This is a large dataset, and this step may take some time to complete\n",
    "X_resampled, y_resampled = ClusterCentroids(random_state=9).fit_resample(X_train, y_train)"
   ]
  },
  {
   "cell_type": "code",
   "execution_count": 25,
   "metadata": {},
   "outputs": [
    {
     "data": {
      "text/plain": [
       "LogisticRegression(max_iter=200, random_state=9)"
      ]
     },
     "execution_count": 25,
     "metadata": {},
     "output_type": "execute_result"
    }
   ],
   "source": [
    "# Train the Logistic Regression model using the resampled data\n",
    "classifier.fit(X_resampled, y_resampled)"
   ]
  },
  {
   "cell_type": "code",
   "execution_count": 26,
   "metadata": {},
   "outputs": [
    {
     "name": "stdout",
     "output_type": "stream",
     "text": [
      "0.7727638984573608\n"
     ]
    }
   ],
   "source": [
    "# Calculated the balanced accuracy score\n",
    "cc_predict = classifier.predict(X_test)\n",
    "print(metrics.balanced_accuracy_score(y_test, cc_predict))"
   ]
  },
  {
   "cell_type": "code",
   "execution_count": 27,
   "metadata": {},
   "outputs": [
    {
     "name": "stdout",
     "output_type": "stream",
     "text": [
      "[[12880  4238]\n",
      " [   18    69]]\n"
     ]
    }
   ],
   "source": [
    "# Display the confusion matrix\n",
    "print(metrics.confusion_matrix(y_test, cc_predict))"
   ]
  },
  {
   "cell_type": "code",
   "execution_count": 28,
   "metadata": {},
   "outputs": [
    {
     "name": "stdout",
     "output_type": "stream",
     "text": [
      "False = low_risk \n",
      " True = high_risk\n",
      "===============================================\n",
      "                   pre       rec       spe        f1       geo       iba       sup\n",
      "\n",
      "      False       1.00      0.87      0.71      0.93      0.79      0.63     17118\n",
      "       True       0.03      0.71      0.87      0.05      0.79      0.61        87\n",
      "\n",
      "avg / total       0.99      0.87      0.71      0.93      0.79      0.63     17205\n",
      "\n"
     ]
    }
   ],
   "source": [
    "# Print the imbalanced classification report\n",
    "print(\"False = low_risk\", \"\\n True = high_risk\")\n",
    "print(\"===============================================\")\n",
    "print(classification_report_imbalanced(y_test, smote_predict))"
   ]
  },
  {
   "cell_type": "markdown",
   "metadata": {},
   "source": [
    "# Combination (Over and Under) Sampling\n",
    "\n",
    "In this section, you will test a combination over- and under-sampling algorithm to determine if the algorithm results in the best performance compared to the other sampling algorithms above. You will resample the data using the SMOTEENN algorithm and complete the folliowing steps:\n",
    "\n",
    "1. View the count of the target classes using `Counter` from the collections library. \n",
    "3. Use the resampled data to train a logistic regression model.\n",
    "3. Calculate the balanced accuracy score from sklearn.metrics.\n",
    "4. Print the confusion matrix from sklearn.metrics.\n",
    "5. Generate a classication report using the `imbalanced_classification_report` from imbalanced-learn.\n",
    "\n",
    "Note: Use a random state of 1 for each sampling algorithm to ensure consistency between tests"
   ]
  },
  {
   "cell_type": "code",
   "execution_count": 29,
   "metadata": {},
   "outputs": [],
   "source": [
    "# Resample the training data with SMOTEENN\n",
    "# Warning: This is a large dataset, and this step may take some time to complete\n",
    "x_resampled, y_resampled = SMOTEENN(random_state=9).fit_resample(X_train, y_train)"
   ]
  },
  {
   "cell_type": "code",
   "execution_count": 30,
   "metadata": {},
   "outputs": [
    {
     "data": {
      "text/plain": [
       "LogisticRegression(max_iter=200, random_state=9)"
      ]
     },
     "execution_count": 30,
     "metadata": {},
     "output_type": "execute_result"
    }
   ],
   "source": [
    "# Train the Logistic Regression model using the resampled data\n",
    "classifier.fit(x_resampled, y_resampled)"
   ]
  },
  {
   "cell_type": "code",
   "execution_count": 31,
   "metadata": {},
   "outputs": [
    {
     "name": "stdout",
     "output_type": "stream",
     "text": [
      "Accuracy Score:   0.863644289450741\n"
     ]
    }
   ],
   "source": [
    "# Calculated the balanced accuracy score\n",
    "smoteenn_predict = classifier.predict(X_test)\n",
    "print(\"Accuracy Score:  \", metrics.accuracy_score(y_test, smoteenn_predict))"
   ]
  },
  {
   "cell_type": "code",
   "execution_count": 32,
   "metadata": {},
   "outputs": [
    {
     "name": "stdout",
     "output_type": "stream",
     "text": [
      "[[14796  2322]\n",
      " [   24    63]]\n"
     ]
    }
   ],
   "source": [
    "# Display the confusion matrix\n",
    "print(metrics.confusion_matrix(y_test, smoteenn_predict))"
   ]
  },
  {
   "cell_type": "code",
   "execution_count": 33,
   "metadata": {},
   "outputs": [
    {
     "name": "stdout",
     "output_type": "stream",
     "text": [
      "False = low_risk \n",
      " True = high_risk\n",
      "===============================================\n",
      "                   pre       rec       spe        f1       geo       iba       sup\n",
      "\n",
      "      False       1.00      0.86      0.72      0.93      0.79      0.63     17118\n",
      "       True       0.03      0.72      0.86      0.05      0.79      0.62        87\n",
      "\n",
      "avg / total       0.99      0.86      0.72      0.92      0.79      0.63     17205\n",
      "\n"
     ]
    }
   ],
   "source": [
    "# Print the imbalanced classification report\n",
    "print(\"False = low_risk\", \"\\n True = high_risk\")\n",
    "print(\"===============================================\")\n",
    "print(classification_report_imbalanced(y_test, smoteenn_predict))"
   ]
  },
  {
   "cell_type": "markdown",
   "metadata": {},
   "source": [
    "# Results: \n",
    "The models above differ in the samples used for the training and use the same X values to test their performance. When you are comparing models that have the same output you can use the Adjusted Rand score of the model to help determine which is better, not just the rand score. If the models had different outputs then this metric would not be able to be compared."
   ]
  },
  {
   "cell_type": "code",
   "execution_count": 34,
   "metadata": {},
   "outputs": [
    {
     "name": "stdout",
     "output_type": "stream",
     "text": [
      "Over Sampled Model: \n",
      "     0.7517653450827282     Rand Socre\n",
      "     0.03382714271996137    Adjusted Rand Score\n"
     ]
    }
   ],
   "source": [
    "print(\"Over Sampled Model: \\n    \",  metrics.rand_score(y_test, over_sampled_predict), \"    Rand Socre\\n    \",metrics.adjusted_rand_score(y_test, over_sampled_predict), \"   Adjusted Rand Score\")"
   ]
  },
  {
   "cell_type": "code",
   "execution_count": 35,
   "metadata": {},
   "outputs": [
    {
     "name": "stdout",
     "output_type": "stream",
     "text": [
      "Under Sampled ClusterCentroids Model: \n",
      "     0.6276222401459594      Rand Socre\n",
      "     0.014519957339254248    Adjusted Rand Score\n"
     ]
    }
   ],
   "source": [
    "print(\"Under Sampled ClusterCentroids Model: \\n    \",  metrics.rand_score(y_test, cc_predict), \"     Rand Socre\\n    \",metrics.adjusted_rand_score(y_test, cc_predict), \"   Adjusted Rand Score\")"
   ]
  },
  {
   "cell_type": "code",
   "execution_count": 36,
   "metadata": {},
   "outputs": [
    {
     "name": "stdout",
     "output_type": "stream",
     "text": [
      "SMOTE Over Sampled Model: \n",
      "     0.7792029333486309     Rand Socre\n",
      "     0.03815906414934229    Adjusted Rand Score\n"
     ]
    }
   ],
   "source": [
    "print(\"SMOTE Over Sampled Model: \\n    \",  metrics.rand_score(y_test, smote_predict), \"    Rand Socre\\n    \",metrics.adjusted_rand_score(y_test, smote_predict), \"   Adjusted Rand Score\")"
   ]
  },
  {
   "cell_type": "code",
   "execution_count": 37,
   "metadata": {},
   "outputs": [
    {
     "name": "stdout",
     "output_type": "stream",
     "text": [
      "SMOTEENN Sampled Model: \n",
      "     0.7644606483316161      Rand Socre\n",
      "     0.035002026849903486    Adjusted Rand Score\n"
     ]
    }
   ],
   "source": [
    "print(\"SMOTEENN Sampled Model: \\n    \",  metrics.rand_score(y_test, smoteenn_predict), \"     Rand Socre\\n    \",metrics.adjusted_rand_score(y_test, smoteenn_predict), \"   Adjusted Rand Score\")"
   ]
  },
  {
   "cell_type": "markdown",
   "metadata": {},
   "source": [
    "The SMOTE model is the best of those four, however the Adjusted Rand score is not high enough to consider any of them for production level code. I believe the Adjusted Rand Score is so low because the sensitivity detection for high risk is nearly non-existant. Finding a different model is highly recommended."
   ]
  },
  {
   "cell_type": "code",
   "execution_count": null,
   "metadata": {},
   "outputs": [],
   "source": []
  }
 ],
 "metadata": {
  "kernelspec": {
   "display_name": "Python 3 (ipykernel)",
   "language": "python",
   "name": "python3"
  },
  "language_info": {
   "codemirror_mode": {
    "name": "ipython",
    "version": 3
   },
   "file_extension": ".py",
   "mimetype": "text/x-python",
   "name": "python",
   "nbconvert_exporter": "python",
   "pygments_lexer": "ipython3",
   "version": "3.9.12"
  }
 },
 "nbformat": 4,
 "nbformat_minor": 2
}
